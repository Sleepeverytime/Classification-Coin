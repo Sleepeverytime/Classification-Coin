{
  "nbformat": 4,
  "nbformat_minor": 0,
  "metadata": {
    "colab": {
      "provenance": [],
      "gpuType": "T4"
    },
    "kernelspec": {
      "name": "python3",
      "display_name": "Python 3"
    },
    "language_info": {
      "name": "python"
    },
    "accelerator": "GPU"
  },
  "cells": [
    {
      "cell_type": "code",
      "execution_count": null,
      "metadata": {
        "colab": {
          "base_uri": "https://localhost:8080/"
        },
        "id": "VKU9rmKJBHFp",
        "outputId": "17a119ab-1db9-4558-fcb2-66a5dad87cbf"
      },
      "outputs": [
        {
          "output_type": "stream",
          "name": "stdout",
          "text": [
            "/content\n"
          ]
        }
      ],
      "source": [
        "import os\n",
        "HOME = os.getcwd()\n",
        "print(HOME)"
      ]
    },
    {
      "cell_type": "code",
      "source": [
        "!git clone https://github.com/SkalskiP/yolov9.git\n",
        "%cd yolov9\n",
        "!pip install -r requirements.txt -q"
      ],
      "metadata": {
        "colab": {
          "base_uri": "https://localhost:8080/"
        },
        "id": "RJ1WPxdZBjL-",
        "outputId": "0d007c3c-ead6-4733-ef52-3f994b336d8d"
      },
      "execution_count": null,
      "outputs": [
        {
          "output_type": "stream",
          "name": "stdout",
          "text": [
            "Cloning into 'yolov9'...\n",
            "remote: Enumerating objects: 325, done.\u001b[K\n",
            "remote: Total 325 (delta 0), reused 0 (delta 0), pack-reused 325\u001b[K\n",
            "Receiving objects: 100% (325/325), 2.25 MiB | 12.19 MiB/s, done.\n",
            "Resolving deltas: 100% (164/164), done.\n",
            "/content/yolov9\n",
            "\u001b[2K     \u001b[90m━━━━━━━━━━━━━━━━━━━━━━━━━━━━━━━━━━━━━━━━\u001b[0m \u001b[32m207.3/207.3 kB\u001b[0m \u001b[31m2.3 MB/s\u001b[0m eta \u001b[36m0:00:00\u001b[0m\n",
            "\u001b[2K     \u001b[90m━━━━━━━━━━━━━━━━━━━━━━━━━━━━━━━━━━━━━━━━\u001b[0m \u001b[32m62.7/62.7 kB\u001b[0m \u001b[31m7.5 MB/s\u001b[0m eta \u001b[36m0:00:00\u001b[0m\n",
            "\u001b[2K     \u001b[90m━━━━━━━━━━━━━━━━━━━━━━━━━━━━━━━━━━━━━━━━\u001b[0m \u001b[32m1.6/1.6 MB\u001b[0m \u001b[31m16.8 MB/s\u001b[0m eta \u001b[36m0:00:00\u001b[0m\n",
            "\u001b[2K     \u001b[90m━━━━━━━━━━━━━━━━━━━━━━━━━━━━━━━━━━━━━━━━\u001b[0m \u001b[32m23.7/23.7 MB\u001b[0m \u001b[31m47.5 MB/s\u001b[0m eta \u001b[36m0:00:00\u001b[0m\n",
            "\u001b[2K     \u001b[90m━━━━━━━━━━━━━━━━━━━━━━━━━━━━━━━━━━━━━━━━\u001b[0m \u001b[32m823.6/823.6 kB\u001b[0m \u001b[31m61.8 MB/s\u001b[0m eta \u001b[36m0:00:00\u001b[0m\n",
            "\u001b[2K     \u001b[90m━━━━━━━━━━━━━━━━━━━━━━━━━━━━━━━━━━━━━━━━\u001b[0m \u001b[32m14.1/14.1 MB\u001b[0m \u001b[31m54.2 MB/s\u001b[0m eta \u001b[36m0:00:00\u001b[0m\n",
            "\u001b[2K     \u001b[90m━━━━━━━━━━━━━━━━━━━━━━━━━━━━━━━━━━━━━━━━\u001b[0m \u001b[32m731.7/731.7 MB\u001b[0m \u001b[31m1.6 MB/s\u001b[0m eta \u001b[36m0:00:00\u001b[0m\n",
            "\u001b[2K     \u001b[90m━━━━━━━━━━━━━━━━━━━━━━━━━━━━━━━━━━━━━━━━\u001b[0m \u001b[32m410.6/410.6 MB\u001b[0m \u001b[31m2.6 MB/s\u001b[0m eta \u001b[36m0:00:00\u001b[0m\n",
            "\u001b[2K     \u001b[90m━━━━━━━━━━━━━━━━━━━━━━━━━━━━━━━━━━━━━━━━\u001b[0m \u001b[32m121.6/121.6 MB\u001b[0m \u001b[31m2.8 MB/s\u001b[0m eta \u001b[36m0:00:00\u001b[0m\n",
            "\u001b[2K     \u001b[90m━━━━━━━━━━━━━━━━━━━━━━━━━━━━━━━━━━━━━━━━\u001b[0m \u001b[32m56.5/56.5 MB\u001b[0m \u001b[31m3.5 MB/s\u001b[0m eta \u001b[36m0:00:00\u001b[0m\n",
            "\u001b[2K     \u001b[90m━━━━━━━━━━━━━━━━━━━━━━━━━━━━━━━━━━━━━━━━\u001b[0m \u001b[32m124.2/124.2 MB\u001b[0m \u001b[31m2.6 MB/s\u001b[0m eta \u001b[36m0:00:00\u001b[0m\n",
            "\u001b[2K     \u001b[90m━━━━━━━━━━━━━━━━━━━━━━━━━━━━━━━━━━━━━━━━\u001b[0m \u001b[32m196.0/196.0 MB\u001b[0m \u001b[31m4.9 MB/s\u001b[0m eta \u001b[36m0:00:00\u001b[0m\n",
            "\u001b[2K     \u001b[90m━━━━━━━━━━━━━━━━━━━━━━━━━━━━━━━━━━━━━━━━\u001b[0m \u001b[32m166.0/166.0 MB\u001b[0m \u001b[31m4.7 MB/s\u001b[0m eta \u001b[36m0:00:00\u001b[0m\n",
            "\u001b[2K     \u001b[90m━━━━━━━━━━━━━━━━━━━━━━━━━━━━━━━━━━━━━━━━\u001b[0m \u001b[32m99.1/99.1 kB\u001b[0m \u001b[31m9.0 MB/s\u001b[0m eta \u001b[36m0:00:00\u001b[0m\n",
            "\u001b[2K     \u001b[90m━━━━━━━━━━━━━━━━━━━━━━━━━━━━━━━━━━━━━━━━\u001b[0m \u001b[32m21.1/21.1 MB\u001b[0m \u001b[31m10.7 MB/s\u001b[0m eta \u001b[36m0:00:00\u001b[0m\n",
            "\u001b[?25h"
          ]
        }
      ]
    },
    {
      "cell_type": "code",
      "source": [
        "!unzip /content/Coin.v1i.yolov9.zip -d /content"
      ],
      "metadata": {
        "colab": {
          "base_uri": "https://localhost:8080/"
        },
        "id": "DDS9f5NbBjwE",
        "outputId": "dcda237e-ac84-4bc1-b7f0-77dba65542cb"
      },
      "execution_count": null,
      "outputs": [
        {
          "output_type": "stream",
          "name": "stdout",
          "text": [
            "Archive:  /content/Coin.v1i.yolov9.zip\n",
            " extracting: /content/README.dataset.txt  \n",
            " extracting: /content/README.roboflow.txt  \n",
            " extracting: /content/data.yaml      \n",
            "   creating: /content/test/\n",
            "   creating: /content/test/images/\n",
            " extracting: /content/test/images/14_jpg.rf.d9b8f940b2a5c22c74e1bb38702b206f.jpg  \n",
            " extracting: /content/test/images/16_jpg.rf.03ef2583a1ac58a5e5a2d5f9ba7604b9.jpg  \n",
            " extracting: /content/test/images/24_jpg.rf.224070003c9d5279be126cdbcaa186d8.jpg  \n",
            " extracting: /content/test/images/26_jpg.rf.0737986690a027ba8c069f4433f02bb4.jpg  \n",
            " extracting: /content/test/images/27_jpg.rf.2cd84f9cfa9979afd83583b73d18f340.jpg  \n",
            " extracting: /content/test/images/2_jpg.rf.1d785918565764f04cbeae7ca4dfed3f.jpg  \n",
            " extracting: /content/test/images/30_jpg.rf.3adc46784215724f17f1ed53e0f7149a.jpg  \n",
            " extracting: /content/test/images/3_jpg.rf.7873cbef323921529c0671f182c37cab.jpg  \n",
            " extracting: /content/test/images/3_jpg.rf.d9e3d22802a420c00d50e6e37b3196ca.jpg  \n",
            " extracting: /content/test/images/6_png.rf.ffcfc215d49d319638d85866ab98c55f.jpg  \n",
            " extracting: /content/test/images/73riz8_jpg.rf.642d546a15e78eb6d17d8b5df746546c.jpg  \n",
            "   creating: /content/test/labels/\n",
            " extracting: /content/test/labels/14_jpg.rf.d9b8f940b2a5c22c74e1bb38702b206f.txt  \n",
            " extracting: /content/test/labels/16_jpg.rf.03ef2583a1ac58a5e5a2d5f9ba7604b9.txt  \n",
            " extracting: /content/test/labels/24_jpg.rf.224070003c9d5279be126cdbcaa186d8.txt  \n",
            " extracting: /content/test/labels/26_jpg.rf.0737986690a027ba8c069f4433f02bb4.txt  \n",
            " extracting: /content/test/labels/27_jpg.rf.2cd84f9cfa9979afd83583b73d18f340.txt  \n",
            " extracting: /content/test/labels/2_jpg.rf.1d785918565764f04cbeae7ca4dfed3f.txt  \n",
            " extracting: /content/test/labels/30_jpg.rf.3adc46784215724f17f1ed53e0f7149a.txt  \n",
            " extracting: /content/test/labels/3_jpg.rf.7873cbef323921529c0671f182c37cab.txt  \n",
            " extracting: /content/test/labels/3_jpg.rf.d9e3d22802a420c00d50e6e37b3196ca.txt  \n",
            " extracting: /content/test/labels/6_png.rf.ffcfc215d49d319638d85866ab98c55f.txt  \n",
            " extracting: /content/test/labels/73riz8_jpg.rf.642d546a15e78eb6d17d8b5df746546c.txt  \n",
            "   creating: /content/train/\n",
            "   creating: /content/train/images/\n",
            " extracting: /content/train/images/10_jpg.rf.31aa9c81fc940097fe21ca1378c04284.jpg  \n",
            " extracting: /content/train/images/10_jpg.rf.91f09a8d0ac4c36af47de46766e68fa7.jpg  \n",
            " extracting: /content/train/images/10_jpg.rf.db00464d376ca33bb3c319ef7c6c2670.jpg  \n",
            " extracting: /content/train/images/10_png.rf.3f61fe66760fe8b05a523743db90c202.jpg  \n",
            " extracting: /content/train/images/10_png.rf.a4266f553e6af4681c01b303568bf9cb.jpg  \n",
            " extracting: /content/train/images/10_png.rf.f78d9fd72faa5af1b44efa9d74d8846e.jpg  \n",
            " extracting: /content/train/images/11_jpg.rf.0c4d5794d905270526ebd78f0ea63406.jpg  \n",
            " extracting: /content/train/images/11_jpg.rf.59973438f19816c5ec4ea613f504417b.jpg  \n",
            " extracting: /content/train/images/11_jpg.rf.77ea9a6e599043463c6faedb2273651e.jpg  \n",
            " extracting: /content/train/images/11_jpg.rf.7eb1ac4bbdeea03505f3ca4c7edb8246.jpg  \n",
            " extracting: /content/train/images/11_jpg.rf.8d8d440f8bdde79214eb088456983600.jpg  \n",
            " extracting: /content/train/images/11_jpg.rf.944f6cfd8cb1236d2c4f2558cc3f9550.jpg  \n",
            " extracting: /content/train/images/11_jpg.rf.a25cc3f5a26e4983f2729c1a673b68c6.jpg  \n",
            " extracting: /content/train/images/11_jpg.rf.a80f17bb934af3c044ad1daebfae1ee7.jpg  \n",
            " extracting: /content/train/images/11_jpg.rf.bc2d843905c32f09deb1c5201f437917.jpg  \n",
            " extracting: /content/train/images/11_jpg.rf.caef95ab62197afde2b8441b2ebfca85.jpg  \n",
            " extracting: /content/train/images/11_jpg.rf.d13f7d07f698bbc57759442589d6a064.jpg  \n",
            " extracting: /content/train/images/11_jpg.rf.da2775b36ad2c6cbab0e74074223acd9.jpg  \n",
            " extracting: /content/train/images/12_jpg.rf.17e940e8c5fe4bf2c773a6e1c0e910a1.jpg  \n",
            " extracting: /content/train/images/12_jpg.rf.2560f43eeae03b257ac0ed0485f61efa.jpg  \n",
            " extracting: /content/train/images/12_jpg.rf.44d8c5bc7e92f5e1a860023cfda992bd.jpg  \n",
            " extracting: /content/train/images/12_jpg.rf.78546208dd5d1f5ac0cd74ed651748a3.jpg  \n",
            " extracting: /content/train/images/12_jpg.rf.88e4644253bbe527022440a142fcdfa7.jpg  \n",
            " extracting: /content/train/images/12_jpg.rf.8d52d9fc1665281522342a903f7c2083.jpg  \n",
            " extracting: /content/train/images/12_jpg.rf.8eaff6d14ab91616bad205b27adfc374.jpg  \n",
            " extracting: /content/train/images/12_jpg.rf.9a87828e85a0ec461b6131dcbb77faf8.jpg  \n",
            " extracting: /content/train/images/12_jpg.rf.aafc3be297a0c36c2d5f181f45fbb2f3.jpg  \n",
            " extracting: /content/train/images/12_jpg.rf.b92163a5bcaaa0f8e930d1dd687a602c.jpg  \n",
            " extracting: /content/train/images/12_jpg.rf.d797417e9093af758346b2cea169cdc2.jpg  \n",
            " extracting: /content/train/images/12_jpg.rf.f8b7a6ee51c80350ca5074dd057412fe.jpg  \n",
            " extracting: /content/train/images/13_jpg.rf.0d61cfd105a8fc2bb34554ae785cfd54.jpg  \n",
            " extracting: /content/train/images/13_jpg.rf.4e93a5a828bc17a643c1d877b547fe04.jpg  \n",
            " extracting: /content/train/images/13_jpg.rf.6cb47a95288b01e076ba613a32c242fe.jpg  \n",
            " extracting: /content/train/images/13_jpg.rf.7d226d5f5fa2c19e509b2e265ff2511f.jpg  \n",
            " extracting: /content/train/images/13_jpg.rf.875a392763e6e3a771e9860f11cf0feb.jpg  \n",
            " extracting: /content/train/images/13_jpg.rf.8f67b71ade36a34839ebeff35c036b48.jpg  \n",
            " extracting: /content/train/images/13_jpg.rf.c1caca2cce49336c521eaadf6ddd8a37.jpg  \n",
            " extracting: /content/train/images/13_jpg.rf.c805d414641ead8f3c12d667fc982e84.jpg  \n",
            " extracting: /content/train/images/14_jpg.rf.1741d7d4b94d81d467e1592b4a67f47b.jpg  \n",
            " extracting: /content/train/images/14_jpg.rf.4aca53cc8c953c07e3125189d0a384ea.jpg  \n",
            " extracting: /content/train/images/14_jpg.rf.642abfd25737a9bf41c451e25c554dc9.jpg  \n",
            " extracting: /content/train/images/14_jpg.rf.87fd6bb3888f9c7ab3681807bcc5c832.jpg  \n",
            " extracting: /content/train/images/14_jpg.rf.d2be2baf32f3d0e3ff865fea71cafd80.jpg  \n",
            " extracting: /content/train/images/14_jpg.rf.e59dc7832ba7f0a140de654ac19291fa.jpg  \n",
            " extracting: /content/train/images/15_jpg.rf.223f1bedfd603f0adb0443611136bd04.jpg  \n",
            " extracting: /content/train/images/15_jpg.rf.33b358ec75fab08170aa8252765fd29b.jpg  \n",
            " extracting: /content/train/images/15_jpg.rf.3a9e276b7e3cb91d5d93efbfa4ff603f.jpg  \n",
            " extracting: /content/train/images/15_jpg.rf.4853e7c3d34dc3d8fd9caae387fe9e99.jpg  \n",
            " extracting: /content/train/images/15_jpg.rf.b6dd8ace795d804cd981f3918b87e8ba.jpg  \n",
            " extracting: /content/train/images/15_jpg.rf.e44cc45607ec42704ba43073c0250e2d.jpg  \n",
            " extracting: /content/train/images/16_jpg.rf.0a64ab5ea983fd2a2e4bbf4c2e78897f.jpg  \n",
            " extracting: /content/train/images/16_jpg.rf.7c4e95a3828d5244156f9bd9f8e4a211.jpg  \n",
            " extracting: /content/train/images/16_jpg.rf.8f02a5dd889e66ff58ef3494e5719e68.jpg  \n",
            " extracting: /content/train/images/16_jpg.rf.948be4289e6a2e54397fec6e86055c83.jpg  \n",
            " extracting: /content/train/images/16_jpg.rf.9ca9ab48ed0018f41b1b7854b43f8a15.jpg  \n",
            " extracting: /content/train/images/16_jpg.rf.ec6053a4a26c579f26b3f4315aa065a4.jpg  \n",
            " extracting: /content/train/images/16_png.rf.49639444116e2388012a370a58e4a1f3.jpg  \n",
            " extracting: /content/train/images/16_png.rf.868da77843bd310dcb6dfe822bc9965a.jpg  \n",
            " extracting: /content/train/images/16_png.rf.fbd71c0183470c026c5c8ecfcc80b092.jpg  \n",
            " extracting: /content/train/images/17_jpg.rf.1239c43fe61535d92e8fc4b611d9fef8.jpg  \n",
            " extracting: /content/train/images/17_jpg.rf.2a517ec0c361af41f51d7f471a23fd59.jpg  \n",
            " extracting: /content/train/images/17_jpg.rf.49ac687728e126683f609a6b7e3d2508.jpg  \n",
            " extracting: /content/train/images/17_jpg.rf.54486659454b2dee53e37ba7a1be8c9a.jpg  \n",
            " extracting: /content/train/images/17_jpg.rf.6ead2efb24a7c6f8e0745b644dcd6e40.jpg  \n",
            " extracting: /content/train/images/17_jpg.rf.70636e433402cef96caa8b87ae46668e.jpg  \n",
            " extracting: /content/train/images/17_jpg.rf.8cb5dfb84278f5ad73f911eaaba1ecd6.jpg  \n",
            " extracting: /content/train/images/17_jpg.rf.90b16648b0432b26a7dbea140ac4cdeb.jpg  \n",
            " extracting: /content/train/images/17_jpg.rf.b33738fd5e82349c7e4563debea30c0a.jpg  \n",
            " extracting: /content/train/images/17_jpg.rf.bd3bfd1c154c53813481cee9141ddc2c.jpg  \n",
            " extracting: /content/train/images/17_jpg.rf.ccb22fe309d90e7cbc4b607c9e79d515.jpg  \n",
            " extracting: /content/train/images/17_jpg.rf.e37e659db6b9ee4aa4d68cbaecdc5776.jpg  \n",
            " extracting: /content/train/images/18_jpg.rf.201a370024385f608c27bc5ce4fd0739.jpg  \n",
            " extracting: /content/train/images/18_jpg.rf.44859590a1fe58e26b130ccf44d027f7.jpg  \n",
            " extracting: /content/train/images/18_jpg.rf.4ee807e3019e536a7a19f4601434f115.jpg  \n",
            " extracting: /content/train/images/18_jpg.rf.6848efc291bd913e987647d5f493b2fb.jpg  \n",
            " extracting: /content/train/images/18_jpg.rf.7d1bc020ceec1ca157e109c606fc99d7.jpg  \n",
            " extracting: /content/train/images/18_jpg.rf.9ec9c63c7db2530dc9a3a6a9dcddac65.jpg  \n",
            " extracting: /content/train/images/18_jpg.rf.af98672e833ea2b3b093ffaba608841f.jpg  \n",
            " extracting: /content/train/images/18_jpg.rf.b024d71520d3d8f3396978a6143bcf52.jpg  \n",
            " extracting: /content/train/images/18_jpg.rf.b44eaf884f2dabc4f686fc53bcf337db.jpg  \n",
            " extracting: /content/train/images/18_jpg.rf.cf1b589fddf599e88033ce90846eeae5.jpg  \n",
            " extracting: /content/train/images/18_jpg.rf.d67eb60d487a11d478aa5992e103c11b.jpg  \n",
            " extracting: /content/train/images/18_jpg.rf.dbb7ef43fd4f43a42dc70db25ad13e78.jpg  \n",
            " extracting: /content/train/images/19_jpg.rf.24c129aae6687e37745e9e5bba91fc8e.jpg  \n",
            " extracting: /content/train/images/19_jpg.rf.3b32e767d618287597d584947ea91cc8.jpg  \n",
            " extracting: /content/train/images/19_jpg.rf.3bcc4a83c44ed05207c5536a764a24f1.jpg  \n",
            " extracting: /content/train/images/19_jpg.rf.44770220ed24bee1170f839e04bc32c9.jpg  \n",
            " extracting: /content/train/images/19_jpg.rf.60ecf4aab2f956aaeb53177662c149b6.jpg  \n",
            " extracting: /content/train/images/19_jpg.rf.8ba737b77abc078580ce926faebad38a.jpg  \n",
            " extracting: /content/train/images/19_jpg.rf.e4a56f28daaf3d3693c3ba90ed0c1fa8.jpg  \n",
            " extracting: /content/train/images/19_jpg.rf.f4e095ef1b1936785068ad89195e2ea4.jpg  \n",
            " extracting: /content/train/images/19_jpg.rf.f980e83070711c99b12ce54f4f6b6388.jpg  \n",
            " extracting: /content/train/images/1_jpg.rf.2ff200aad59d1f11ac7d9dfd666c39b9.jpg  \n",
            " extracting: /content/train/images/1_jpg.rf.3902f67361bc56b7cf6e005481280a2b.jpg  \n",
            " extracting: /content/train/images/1_jpg.rf.4787a091dc5938ac50d7ce54e4851464.jpg  \n",
            " extracting: /content/train/images/1_jpg.rf.5df418ce8caa6e3010f82c0294ba68e9.jpg  \n",
            " extracting: /content/train/images/1_jpg.rf.74eb14f4ce9e7c98bd85d4f0b91b7d88.jpg  \n",
            " extracting: /content/train/images/1_jpg.rf.78344e7cbfaf17a0af56f91bf1d04004.jpg  \n",
            " extracting: /content/train/images/1_jpg.rf.8fe99ebed006556327cb71fba6b57e11.jpg  \n",
            " extracting: /content/train/images/1_jpg.rf.f5d7dc0f47c8a6c021c152cd69a878de.jpg  \n",
            " extracting: /content/train/images/1_jpg.rf.ff5890192009e09e220200a72107f7a3.jpg  \n",
            " extracting: /content/train/images/20_jpg.rf.0694d321e1d0aa7362015201245ac773.jpg  \n",
            " extracting: /content/train/images/20_jpg.rf.24e08f9dd5c9d36b340741113d87ace9.jpg  \n",
            " extracting: /content/train/images/20_jpg.rf.2ad9d0d433767a981cc610aa2ee4d427.jpg  \n",
            " extracting: /content/train/images/20_jpg.rf.5782e2b0054ac6c54f19ddf9ff7205e0.jpg  \n",
            " extracting: /content/train/images/20_jpg.rf.60e2fbca0390532002f029ef1ff07c76.jpg  \n",
            " extracting: /content/train/images/20_jpg.rf.80f5c5bb0ce7ae321552ae1119223837.jpg  \n",
            " extracting: /content/train/images/20_jpg.rf.991cc9dab3cde7f001265bb54031c324.jpg  \n",
            " extracting: /content/train/images/20_jpg.rf.a38dae4158a772bef52998a39a1b465b.jpg  \n",
            " extracting: /content/train/images/20_jpg.rf.b6e9c0b279fa07f8abf1e2e7c7374c89.jpg  \n",
            " extracting: /content/train/images/20_jpg.rf.e53bf0d323ec6e42838a0be61af2d045.jpg  \n",
            " extracting: /content/train/images/20_jpg.rf.f890e810cb3e0978af317e812e25c035.jpg  \n",
            " extracting: /content/train/images/20_jpg.rf.fcb46aa4fefbda652e76d4239cc48021.jpg  \n",
            " extracting: /content/train/images/21_jpg.rf.1a60a1c90b21071bb7ebb68eb0345465.jpg  \n",
            " extracting: /content/train/images/21_jpg.rf.2f11829446b0cbefa6eb572f5b9ec72b.jpg  \n",
            " extracting: /content/train/images/21_jpg.rf.3023397d8f02be7f3e44bf4aad966f0d.jpg  \n",
            " extracting: /content/train/images/21_jpg.rf.969a85f84d2673d9dfac93d5b500d12c.jpg  \n",
            " extracting: /content/train/images/21_jpg.rf.9b96591ca8b133e0febde4728ba23221.jpg  \n",
            " extracting: /content/train/images/21_jpg.rf.9d4b6cee58ea86277cc27dcac3198c52.jpg  \n",
            " extracting: /content/train/images/21_jpg.rf.dd73b325874233b0a1749d94b28ca5fb.jpg  \n",
            " extracting: /content/train/images/21_jpg.rf.f91b8d77bd038c30a8911c10762adfc5.jpg  \n",
            " extracting: /content/train/images/21_jpg.rf.fa6125d8d253005562a41c437331a613.jpg  \n",
            " extracting: /content/train/images/22_jpg.rf.0bb6c194816a2b92d937a7b47f8b68a9.jpg  \n",
            " extracting: /content/train/images/22_jpg.rf.1854ced4ef093b042d27359ceb0a3ee3.jpg  \n",
            " extracting: /content/train/images/22_jpg.rf.2630120a55aad740c58412baeda09035.jpg  \n",
            " extracting: /content/train/images/22_jpg.rf.2b96fb21a6ccb076b4975ae745ca272e.jpg  \n",
            " extracting: /content/train/images/22_jpg.rf.5121977a293451f2ea796a381f3c375c.jpg  \n",
            " extracting: /content/train/images/22_jpg.rf.59611b4445808a48ee8897926e252d11.jpg  \n",
            " extracting: /content/train/images/22_jpg.rf.757edc148a04db22c88a3a6950ac1ad3.jpg  \n",
            " extracting: /content/train/images/22_jpg.rf.8f267019412a73a92729dce2f0042490.jpg  \n",
            " extracting: /content/train/images/22_jpg.rf.adcbdd11fb26e4b3cfbfb7e25c3e022b.jpg  \n",
            " extracting: /content/train/images/22_jpg.rf.b854349736aa834662ce4b27e1517ab4.jpg  \n",
            " extracting: /content/train/images/22_jpg.rf.ddf95752bd9457dd0fd168fe67a5786b.jpg  \n",
            " extracting: /content/train/images/22_jpg.rf.fccff0b1d9c7dd8f04b7e6ff731a525f.jpg  \n",
            " extracting: /content/train/images/23_jpg.rf.2e505239b2f0cfe44efd0b58e78483b0.jpg  \n",
            " extracting: /content/train/images/23_jpg.rf.2fdb96846ea064fb7b092156addb3936.jpg  \n",
            " extracting: /content/train/images/23_jpg.rf.309c1bd9ba232ce8d0fc5772ad24a0df.jpg  \n",
            " extracting: /content/train/images/23_jpg.rf.3dcc6dab2a83e3fb26e06ac451ca2f89.jpg  \n",
            " extracting: /content/train/images/23_jpg.rf.45d64889be799226590794c8f31fe04f.jpg  \n",
            " extracting: /content/train/images/23_jpg.rf.5366956889d6a1ec7bb0e8e6ad63010b.jpg  \n",
            " extracting: /content/train/images/23_jpg.rf.8311330ded9187d6a589ffa5f676a2f8.jpg  \n",
            " extracting: /content/train/images/23_jpg.rf.a0deebf0645feb728345f1deaf3baa14.jpg  \n",
            " extracting: /content/train/images/23_jpg.rf.e47a81351853bb105febc6afdf9bfe21.jpg  \n",
            " extracting: /content/train/images/24_jpg.rf.563f8e78796da162de1023fe2431bd59.jpg  \n",
            " extracting: /content/train/images/24_jpg.rf.6fb8e1f3beedd6c62b9ade8c4b9b57a5.jpg  \n",
            " extracting: /content/train/images/24_jpg.rf.81cf9d58aa6bd8310271ef4529624a88.jpg  \n",
            " extracting: /content/train/images/24_jpg.rf.96181d989fe173f16f099cb217b6bf0a.jpg  \n",
            " extracting: /content/train/images/24_jpg.rf.d52c09aad2526670b265e654517290c1.jpg  \n",
            " extracting: /content/train/images/24_jpg.rf.f77664ac2fefe656891f9c49f3219b78.jpg  \n",
            " extracting: /content/train/images/25_jpg.rf.3f3d37e8ebc995ee19bab002a69288fb.jpg  \n",
            " extracting: /content/train/images/25_jpg.rf.4ec376df41f040d4475cef2dffe02c36.jpg  \n",
            " extracting: /content/train/images/25_jpg.rf.a75a2122443a5d151a4a80c3139b017f.jpg  \n",
            " extracting: /content/train/images/26_jpg.rf.17c88fd5086102954632ecdd7738b13b.jpg  \n",
            " extracting: /content/train/images/26_jpg.rf.1be87ccd586e1e10fceda85cfd52e70c.jpg  \n",
            " extracting: /content/train/images/26_jpg.rf.45035c02e7fe706c25cbc62fa9728e9a.jpg  \n",
            " extracting: /content/train/images/26_jpg.rf.5ecfb25e187911503431a73e0819d676.jpg  \n",
            " extracting: /content/train/images/26_jpg.rf.a72711f63794e3362843b62a694fe2ec.jpg  \n",
            " extracting: /content/train/images/26_jpg.rf.cbd1844c3c893bbc6c6979c734ac49a0.jpg  \n",
            " extracting: /content/train/images/26_jpg.rf.dff6302e3283a0792207aa57b66e0349.jpg  \n",
            " extracting: /content/train/images/26_jpg.rf.e354611407a5438625c8dde021834771.jpg  \n",
            " extracting: /content/train/images/26_jpg.rf.f0ad9b6cdf183547c3810594b3a51c54.jpg  \n",
            " extracting: /content/train/images/27_jpg.rf.14c2afd73c02a8704c81e71bbc8034f1.jpg  \n",
            " extracting: /content/train/images/27_jpg.rf.19acaec3c1d97b358e53459e0e3da621.jpg  \n",
            " extracting: /content/train/images/27_jpg.rf.80d8769702818b54998b66f59b3ac7cf.jpg  \n",
            " extracting: /content/train/images/27_jpg.rf.8968557fcf3b067cbd5324616291e7bb.jpg  \n",
            " extracting: /content/train/images/27_jpg.rf.898c478c6fa16d952694fdd9b3c0afec.jpg  \n",
            " extracting: /content/train/images/27_jpg.rf.9646f19fb0cdbb3c640b53b5e21c797e.jpg  \n",
            " extracting: /content/train/images/27_jpg.rf.9df0b4cb5c575a5574bf6e8d4324841d.jpg  \n",
            " extracting: /content/train/images/27_jpg.rf.b36eea1db272a21d66ee2aeb536eda76.jpg  \n",
            " extracting: /content/train/images/27_jpg.rf.cc1d4e6e91e6f0afe959025e0587ed7e.jpg  \n",
            " extracting: /content/train/images/28_jpg.rf.0c9ff414120f45e6aca7f11ea8ba6b20.jpg  \n",
            " extracting: /content/train/images/28_jpg.rf.1f975676878ed1abf7a96960c414a988.jpg  \n",
            " extracting: /content/train/images/28_jpg.rf.62c01c01fdc2b29ef6e21bc4c1dc1c85.jpg  \n",
            " extracting: /content/train/images/28_jpg.rf.74a3b2e86fb3fe2594b3c3dea3286947.jpg  \n",
            " extracting: /content/train/images/28_jpg.rf.bf34bee2c61c238ca3e19d0640b72c02.jpg  \n",
            " extracting: /content/train/images/28_jpg.rf.f28c4adc4c526a9b76954cee9cce1021.jpg  \n",
            " extracting: /content/train/images/29_jpg.rf.227bda1f113bcea4fd14002fcbc2f58a.jpg  \n",
            " extracting: /content/train/images/29_jpg.rf.4acc57cf3840a66ee109a09b6ebaeab5.jpg  \n",
            " extracting: /content/train/images/29_jpg.rf.51928ab17d67420bcde28591ce765c21.jpg  \n",
            " extracting: /content/train/images/29_jpg.rf.53f5076f24e10c397dcf2b704d78c423.jpg  \n",
            " extracting: /content/train/images/29_jpg.rf.5a77861926174fedc34d53bbc9b75c11.jpg  \n",
            " extracting: /content/train/images/29_jpg.rf.e00633d5f8d657ade927ed247ef7a55b.jpg  \n",
            " extracting: /content/train/images/2_jpg.rf.7bd0bccc1f8c5724ef7f46a5623135e8.jpg  \n",
            " extracting: /content/train/images/2_jpg.rf.a23b2ea5a4ef953f7edf2f396eb85b29.jpg  \n",
            " extracting: /content/train/images/2_jpg.rf.d4db59a514f2d6ba75e914187c1ec8bc.jpg  \n",
            " extracting: /content/train/images/30_jpg.rf.116ae9073f7e76ccde008c91b4a1cb49.jpg  \n",
            " extracting: /content/train/images/30_jpg.rf.3135f508e26713e5d38d930288c8c1e3.jpg  \n",
            " extracting: /content/train/images/30_jpg.rf.341056bd851bf4bdc5ae44679a065985.jpg  \n",
            " extracting: /content/train/images/30_jpg.rf.67c4bde27095b0727097614ba63e72ec.jpg  \n",
            " extracting: /content/train/images/30_jpg.rf.71abbff8662a85eb17e519341ef058bc.jpg  \n",
            " extracting: /content/train/images/30_jpg.rf.7427c766977136205534dae3aec2b265.jpg  \n",
            " extracting: /content/train/images/30_jpg.rf.82677ce6caa404283b5ea6fb3e1599c8.jpg  \n",
            " extracting: /content/train/images/30_jpg.rf.a6931d88ecd0c82eed4518603f26056b.jpg  \n",
            " extracting: /content/train/images/30_jpg.rf.f0994559139ae3444f556d18f878433c.jpg  \n",
            " extracting: /content/train/images/3_jpg.rf.673ea9a9f0ecaf14437d49733f7140d1.jpg  \n",
            " extracting: /content/train/images/3_jpg.rf.7f6cd99c11c6b2f3e9153407e7d7f396.jpg  \n",
            " extracting: /content/train/images/3_jpg.rf.8ae54de118af3e0231ec7f75318cd218.jpg  \n",
            " extracting: /content/train/images/4_jpg.rf.06f771edfecf9a6b6b08f35fe8539553.jpg  \n",
            " extracting: /content/train/images/4_jpg.rf.0a15e122148bc3d7e530d516b0691d59.jpg  \n",
            " extracting: /content/train/images/4_jpg.rf.2df0aa9a8b64d3e91603e77395ee5136.jpg  \n",
            " extracting: /content/train/images/4_jpg.rf.2f31c2d5b42662fca201b569b6bc7de6.jpg  \n",
            " extracting: /content/train/images/4_jpg.rf.73713cd2e47701b0cd218cf354c9bacc.jpg  \n",
            " extracting: /content/train/images/4_jpg.rf.9eb5c82ce48d51f8e5a9f4ce71db8537.jpg  \n",
            " extracting: /content/train/images/4_jpg.rf.f34a9e1ee97cd3cf39ac13636d74daa6.jpg  \n",
            " extracting: /content/train/images/4_jpg.rf.f41c6e7f3cf9a6221b52b11ccc6b47a1.jpg  \n",
            " extracting: /content/train/images/5_jpg.rf.188694dc877c27c3410497a2178848dd.jpg  \n",
            " extracting: /content/train/images/5_jpg.rf.356dd3ff5e16a154bdc8ea0ca8573e4c.jpg  \n",
            " extracting: /content/train/images/5_jpg.rf.3b0cb3266cd453b79bba666c694929b4.jpg  \n",
            " extracting: /content/train/images/5_jpg.rf.4243ea35393857fdaa1df53291fb2ee8.jpg  \n",
            " extracting: /content/train/images/5_jpg.rf.5b58e05a020999aff564511184145444.jpg  \n",
            " extracting: /content/train/images/5_jpg.rf.6be7f2c2a3aa84d8a19e4caea66af284.jpg  \n",
            " extracting: /content/train/images/5_jpg.rf.aa8904d9031f5204fb6cc7ff575d8c84.jpg  \n",
            " extracting: /content/train/images/5_jpg.rf.afdb49f78a21a619b2c698f28ef8fd57.jpg  \n",
            " extracting: /content/train/images/5_jpg.rf.b0461d0d5aa43e7e0c6f5fed47a08c3b.jpg  \n",
            " extracting: /content/train/images/5_jpg.rf.b5fbdf1900999dc581186fe04a09581b.jpg  \n",
            " extracting: /content/train/images/5_jpg.rf.de1a3f9a3b1f80611e6340a254887c98.jpg  \n",
            " extracting: /content/train/images/5_jpg.rf.fde0e5bcda1ab265347917be66611096.jpg  \n",
            " extracting: /content/train/images/6_jpg.rf.5ce71c620cb43a6a1fd957bb2fe11630.jpg  \n",
            " extracting: /content/train/images/6_jpg.rf.5cfd6716c959920f530e38496c5d387d.jpg  \n",
            " extracting: /content/train/images/6_jpg.rf.8d42f6f9e601dd0fbf3fb83afacbe09d.jpg  \n",
            " extracting: /content/train/images/6_jpg.rf.93f2dc2c7be932cc9eb93f1143d06a98.jpg  \n",
            " extracting: /content/train/images/6_jpg.rf.98625c1a57e0f52260ce45c902b5439a.jpg  \n",
            " extracting: /content/train/images/6_jpg.rf.c7a5d5081055e9267f9a0898a794ef85.jpg  \n",
            " extracting: /content/train/images/7_jpg.rf.25ff472751aad27a3d921ba6ca46926c.jpg  \n",
            " extracting: /content/train/images/7_jpg.rf.681f353a404c2607e141c739015387d2.jpg  \n",
            " extracting: /content/train/images/7_jpg.rf.6dd0202711f191ed545d8379e51a8ea1.jpg  \n",
            " extracting: /content/train/images/7_jpg.rf.8f50c427f3a9416c23330a91453e39a4.jpg  \n",
            " extracting: /content/train/images/7_jpg.rf.8f954d2b64f91d80e82909b7ee123473.jpg  \n",
            " extracting: /content/train/images/7_jpg.rf.b1a0648e9ba3a8b2c10fa34272f1013a.jpg  \n",
            " extracting: /content/train/images/7_jpg.rf.be136fe1d8b660599832561afc6b3577.jpg  \n",
            " extracting: /content/train/images/7_jpg.rf.e2ab40fa80ab09890d6d85db3c3e0091.jpg  \n",
            " extracting: /content/train/images/7_jpg.rf.f7c1c0401b18579be37a35076b12c1eb.jpg  \n",
            " extracting: /content/train/images/8_jpg.rf.64af00b40580691c2ef9464ff82ce360.jpg  \n",
            " extracting: /content/train/images/8_jpg.rf.c8734bc1b8b7085cd1736bfad2aa4c07.jpg  \n",
            " extracting: /content/train/images/8_jpg.rf.f3260a47ac2af50669ea9445b188ea0e.jpg  \n",
            " extracting: /content/train/images/8_png.rf.588f0ea69bd2c745b17bb581c52dd6c0.jpg  \n",
            " extracting: /content/train/images/8_png.rf.7eda1c4d259f6db7024042fda7df2020.jpg  \n",
            " extracting: /content/train/images/8_png.rf.bf288c0dccec7a4ad7e9fb2b14c7cf84.jpg  \n",
            " extracting: /content/train/images/9_jpg.rf.2cf9c7d3cc1034ccb5607b3580f49487.jpg  \n",
            " extracting: /content/train/images/9_jpg.rf.32164e7ba5737b8d7641a0d11d67fb17.jpg  \n",
            " extracting: /content/train/images/9_jpg.rf.3280f166102fb86b3528b0e2db718480.jpg  \n",
            " extracting: /content/train/images/9_jpg.rf.5d56ce100037b19ad87a8f371a91fcb9.jpg  \n",
            " extracting: /content/train/images/9_jpg.rf.7eaeea94c2368a535a1e643248af3412.jpg  \n",
            " extracting: /content/train/images/9_jpg.rf.84e3a72d15a3fdbba38ed5b6d0ed482f.jpg  \n",
            " extracting: /content/train/images/9_jpg.rf.8df3f7ae4f1d87b256436fcc9baa309e.jpg  \n",
            " extracting: /content/train/images/9_jpg.rf.953304ebe6bffe22422f18ab998e1519.jpg  \n",
            " extracting: /content/train/images/9_jpg.rf.ec8f89acbb57584c0e2949573dc1d141.jpg  \n",
            " extracting: /content/train/images/wn8cg1_jpg.rf.168eb4c8c1054b81b9f73553e3771385.jpg  \n",
            " extracting: /content/train/images/wn8cg1_jpg.rf.5620345f5fc55210f0b591f5db244018.jpg  \n",
            " extracting: /content/train/images/wn8cg1_jpg.rf.d14d3cee31c17302f326d3014647a4a8.jpg  \n",
            "   creating: /content/train/labels/\n",
            " extracting: /content/train/labels/10_jpg.rf.31aa9c81fc940097fe21ca1378c04284.txt  \n",
            " extracting: /content/train/labels/10_jpg.rf.91f09a8d0ac4c36af47de46766e68fa7.txt  \n",
            " extracting: /content/train/labels/10_jpg.rf.db00464d376ca33bb3c319ef7c6c2670.txt  \n",
            " extracting: /content/train/labels/10_png.rf.3f61fe66760fe8b05a523743db90c202.txt  \n",
            " extracting: /content/train/labels/10_png.rf.a4266f553e6af4681c01b303568bf9cb.txt  \n",
            " extracting: /content/train/labels/10_png.rf.f78d9fd72faa5af1b44efa9d74d8846e.txt  \n",
            " extracting: /content/train/labels/11_jpg.rf.0c4d5794d905270526ebd78f0ea63406.txt  \n",
            " extracting: /content/train/labels/11_jpg.rf.59973438f19816c5ec4ea613f504417b.txt  \n",
            " extracting: /content/train/labels/11_jpg.rf.77ea9a6e599043463c6faedb2273651e.txt  \n",
            " extracting: /content/train/labels/11_jpg.rf.7eb1ac4bbdeea03505f3ca4c7edb8246.txt  \n",
            " extracting: /content/train/labels/11_jpg.rf.8d8d440f8bdde79214eb088456983600.txt  \n",
            " extracting: /content/train/labels/11_jpg.rf.944f6cfd8cb1236d2c4f2558cc3f9550.txt  \n",
            " extracting: /content/train/labels/11_jpg.rf.a25cc3f5a26e4983f2729c1a673b68c6.txt  \n",
            " extracting: /content/train/labels/11_jpg.rf.a80f17bb934af3c044ad1daebfae1ee7.txt  \n",
            " extracting: /content/train/labels/11_jpg.rf.bc2d843905c32f09deb1c5201f437917.txt  \n",
            " extracting: /content/train/labels/11_jpg.rf.caef95ab62197afde2b8441b2ebfca85.txt  \n",
            " extracting: /content/train/labels/11_jpg.rf.d13f7d07f698bbc57759442589d6a064.txt  \n",
            " extracting: /content/train/labels/11_jpg.rf.da2775b36ad2c6cbab0e74074223acd9.txt  \n",
            " extracting: /content/train/labels/12_jpg.rf.17e940e8c5fe4bf2c773a6e1c0e910a1.txt  \n",
            " extracting: /content/train/labels/12_jpg.rf.2560f43eeae03b257ac0ed0485f61efa.txt  \n",
            " extracting: /content/train/labels/12_jpg.rf.44d8c5bc7e92f5e1a860023cfda992bd.txt  \n",
            " extracting: /content/train/labels/12_jpg.rf.78546208dd5d1f5ac0cd74ed651748a3.txt  \n",
            " extracting: /content/train/labels/12_jpg.rf.88e4644253bbe527022440a142fcdfa7.txt  \n",
            " extracting: /content/train/labels/12_jpg.rf.8d52d9fc1665281522342a903f7c2083.txt  \n",
            " extracting: /content/train/labels/12_jpg.rf.8eaff6d14ab91616bad205b27adfc374.txt  \n",
            " extracting: /content/train/labels/12_jpg.rf.9a87828e85a0ec461b6131dcbb77faf8.txt  \n",
            " extracting: /content/train/labels/12_jpg.rf.aafc3be297a0c36c2d5f181f45fbb2f3.txt  \n",
            " extracting: /content/train/labels/12_jpg.rf.b92163a5bcaaa0f8e930d1dd687a602c.txt  \n",
            " extracting: /content/train/labels/12_jpg.rf.d797417e9093af758346b2cea169cdc2.txt  \n",
            " extracting: /content/train/labels/12_jpg.rf.f8b7a6ee51c80350ca5074dd057412fe.txt  \n",
            " extracting: /content/train/labels/13_jpg.rf.0d61cfd105a8fc2bb34554ae785cfd54.txt  \n",
            " extracting: /content/train/labels/13_jpg.rf.4e93a5a828bc17a643c1d877b547fe04.txt  \n",
            " extracting: /content/train/labels/13_jpg.rf.6cb47a95288b01e076ba613a32c242fe.txt  \n",
            " extracting: /content/train/labels/13_jpg.rf.7d226d5f5fa2c19e509b2e265ff2511f.txt  \n",
            " extracting: /content/train/labels/13_jpg.rf.875a392763e6e3a771e9860f11cf0feb.txt  \n",
            " extracting: /content/train/labels/13_jpg.rf.8f67b71ade36a34839ebeff35c036b48.txt  \n",
            " extracting: /content/train/labels/13_jpg.rf.c1caca2cce49336c521eaadf6ddd8a37.txt  \n",
            " extracting: /content/train/labels/13_jpg.rf.c805d414641ead8f3c12d667fc982e84.txt  \n",
            " extracting: /content/train/labels/14_jpg.rf.1741d7d4b94d81d467e1592b4a67f47b.txt  \n",
            " extracting: /content/train/labels/14_jpg.rf.4aca53cc8c953c07e3125189d0a384ea.txt  \n",
            " extracting: /content/train/labels/14_jpg.rf.642abfd25737a9bf41c451e25c554dc9.txt  \n",
            " extracting: /content/train/labels/14_jpg.rf.87fd6bb3888f9c7ab3681807bcc5c832.txt  \n",
            " extracting: /content/train/labels/14_jpg.rf.d2be2baf32f3d0e3ff865fea71cafd80.txt  \n",
            " extracting: /content/train/labels/14_jpg.rf.e59dc7832ba7f0a140de654ac19291fa.txt  \n",
            " extracting: /content/train/labels/15_jpg.rf.223f1bedfd603f0adb0443611136bd04.txt  \n",
            " extracting: /content/train/labels/15_jpg.rf.33b358ec75fab08170aa8252765fd29b.txt  \n",
            " extracting: /content/train/labels/15_jpg.rf.3a9e276b7e3cb91d5d93efbfa4ff603f.txt  \n",
            " extracting: /content/train/labels/15_jpg.rf.4853e7c3d34dc3d8fd9caae387fe9e99.txt  \n",
            " extracting: /content/train/labels/15_jpg.rf.b6dd8ace795d804cd981f3918b87e8ba.txt  \n",
            " extracting: /content/train/labels/15_jpg.rf.e44cc45607ec42704ba43073c0250e2d.txt  \n",
            " extracting: /content/train/labels/16_jpg.rf.0a64ab5ea983fd2a2e4bbf4c2e78897f.txt  \n",
            " extracting: /content/train/labels/16_jpg.rf.7c4e95a3828d5244156f9bd9f8e4a211.txt  \n",
            " extracting: /content/train/labels/16_jpg.rf.8f02a5dd889e66ff58ef3494e5719e68.txt  \n",
            " extracting: /content/train/labels/16_jpg.rf.948be4289e6a2e54397fec6e86055c83.txt  \n",
            " extracting: /content/train/labels/16_jpg.rf.9ca9ab48ed0018f41b1b7854b43f8a15.txt  \n",
            " extracting: /content/train/labels/16_jpg.rf.ec6053a4a26c579f26b3f4315aa065a4.txt  \n",
            " extracting: /content/train/labels/16_png.rf.49639444116e2388012a370a58e4a1f3.txt  \n",
            " extracting: /content/train/labels/16_png.rf.868da77843bd310dcb6dfe822bc9965a.txt  \n",
            " extracting: /content/train/labels/16_png.rf.fbd71c0183470c026c5c8ecfcc80b092.txt  \n",
            " extracting: /content/train/labels/17_jpg.rf.1239c43fe61535d92e8fc4b611d9fef8.txt  \n",
            " extracting: /content/train/labels/17_jpg.rf.2a517ec0c361af41f51d7f471a23fd59.txt  \n",
            " extracting: /content/train/labels/17_jpg.rf.49ac687728e126683f609a6b7e3d2508.txt  \n",
            " extracting: /content/train/labels/17_jpg.rf.54486659454b2dee53e37ba7a1be8c9a.txt  \n",
            " extracting: /content/train/labels/17_jpg.rf.6ead2efb24a7c6f8e0745b644dcd6e40.txt  \n",
            " extracting: /content/train/labels/17_jpg.rf.70636e433402cef96caa8b87ae46668e.txt  \n",
            " extracting: /content/train/labels/17_jpg.rf.8cb5dfb84278f5ad73f911eaaba1ecd6.txt  \n",
            " extracting: /content/train/labels/17_jpg.rf.90b16648b0432b26a7dbea140ac4cdeb.txt  \n",
            " extracting: /content/train/labels/17_jpg.rf.b33738fd5e82349c7e4563debea30c0a.txt  \n",
            " extracting: /content/train/labels/17_jpg.rf.bd3bfd1c154c53813481cee9141ddc2c.txt  \n",
            " extracting: /content/train/labels/17_jpg.rf.ccb22fe309d90e7cbc4b607c9e79d515.txt  \n",
            " extracting: /content/train/labels/17_jpg.rf.e37e659db6b9ee4aa4d68cbaecdc5776.txt  \n",
            " extracting: /content/train/labels/18_jpg.rf.201a370024385f608c27bc5ce4fd0739.txt  \n",
            " extracting: /content/train/labels/18_jpg.rf.44859590a1fe58e26b130ccf44d027f7.txt  \n",
            " extracting: /content/train/labels/18_jpg.rf.4ee807e3019e536a7a19f4601434f115.txt  \n",
            " extracting: /content/train/labels/18_jpg.rf.6848efc291bd913e987647d5f493b2fb.txt  \n",
            " extracting: /content/train/labels/18_jpg.rf.7d1bc020ceec1ca157e109c606fc99d7.txt  \n",
            " extracting: /content/train/labels/18_jpg.rf.9ec9c63c7db2530dc9a3a6a9dcddac65.txt  \n",
            " extracting: /content/train/labels/18_jpg.rf.af98672e833ea2b3b093ffaba608841f.txt  \n",
            " extracting: /content/train/labels/18_jpg.rf.b024d71520d3d8f3396978a6143bcf52.txt  \n",
            " extracting: /content/train/labels/18_jpg.rf.b44eaf884f2dabc4f686fc53bcf337db.txt  \n",
            " extracting: /content/train/labels/18_jpg.rf.cf1b589fddf599e88033ce90846eeae5.txt  \n",
            " extracting: /content/train/labels/18_jpg.rf.d67eb60d487a11d478aa5992e103c11b.txt  \n",
            " extracting: /content/train/labels/18_jpg.rf.dbb7ef43fd4f43a42dc70db25ad13e78.txt  \n",
            " extracting: /content/train/labels/19_jpg.rf.24c129aae6687e37745e9e5bba91fc8e.txt  \n",
            " extracting: /content/train/labels/19_jpg.rf.3b32e767d618287597d584947ea91cc8.txt  \n",
            " extracting: /content/train/labels/19_jpg.rf.3bcc4a83c44ed05207c5536a764a24f1.txt  \n",
            " extracting: /content/train/labels/19_jpg.rf.44770220ed24bee1170f839e04bc32c9.txt  \n",
            " extracting: /content/train/labels/19_jpg.rf.60ecf4aab2f956aaeb53177662c149b6.txt  \n",
            " extracting: /content/train/labels/19_jpg.rf.8ba737b77abc078580ce926faebad38a.txt  \n",
            " extracting: /content/train/labels/19_jpg.rf.e4a56f28daaf3d3693c3ba90ed0c1fa8.txt  \n",
            " extracting: /content/train/labels/19_jpg.rf.f4e095ef1b1936785068ad89195e2ea4.txt  \n",
            " extracting: /content/train/labels/19_jpg.rf.f980e83070711c99b12ce54f4f6b6388.txt  \n",
            " extracting: /content/train/labels/1_jpg.rf.2ff200aad59d1f11ac7d9dfd666c39b9.txt  \n",
            " extracting: /content/train/labels/1_jpg.rf.3902f67361bc56b7cf6e005481280a2b.txt  \n",
            " extracting: /content/train/labels/1_jpg.rf.4787a091dc5938ac50d7ce54e4851464.txt  \n",
            " extracting: /content/train/labels/1_jpg.rf.5df418ce8caa6e3010f82c0294ba68e9.txt  \n",
            " extracting: /content/train/labels/1_jpg.rf.74eb14f4ce9e7c98bd85d4f0b91b7d88.txt  \n",
            " extracting: /content/train/labels/1_jpg.rf.78344e7cbfaf17a0af56f91bf1d04004.txt  \n",
            " extracting: /content/train/labels/1_jpg.rf.8fe99ebed006556327cb71fba6b57e11.txt  \n",
            " extracting: /content/train/labels/1_jpg.rf.f5d7dc0f47c8a6c021c152cd69a878de.txt  \n",
            " extracting: /content/train/labels/1_jpg.rf.ff5890192009e09e220200a72107f7a3.txt  \n",
            " extracting: /content/train/labels/20_jpg.rf.0694d321e1d0aa7362015201245ac773.txt  \n",
            " extracting: /content/train/labels/20_jpg.rf.24e08f9dd5c9d36b340741113d87ace9.txt  \n",
            " extracting: /content/train/labels/20_jpg.rf.2ad9d0d433767a981cc610aa2ee4d427.txt  \n",
            " extracting: /content/train/labels/20_jpg.rf.5782e2b0054ac6c54f19ddf9ff7205e0.txt  \n",
            " extracting: /content/train/labels/20_jpg.rf.60e2fbca0390532002f029ef1ff07c76.txt  \n",
            " extracting: /content/train/labels/20_jpg.rf.80f5c5bb0ce7ae321552ae1119223837.txt  \n",
            " extracting: /content/train/labels/20_jpg.rf.991cc9dab3cde7f001265bb54031c324.txt  \n",
            " extracting: /content/train/labels/20_jpg.rf.a38dae4158a772bef52998a39a1b465b.txt  \n",
            " extracting: /content/train/labels/20_jpg.rf.b6e9c0b279fa07f8abf1e2e7c7374c89.txt  \n",
            " extracting: /content/train/labels/20_jpg.rf.e53bf0d323ec6e42838a0be61af2d045.txt  \n",
            " extracting: /content/train/labels/20_jpg.rf.f890e810cb3e0978af317e812e25c035.txt  \n",
            " extracting: /content/train/labels/20_jpg.rf.fcb46aa4fefbda652e76d4239cc48021.txt  \n",
            " extracting: /content/train/labels/21_jpg.rf.1a60a1c90b21071bb7ebb68eb0345465.txt  \n",
            " extracting: /content/train/labels/21_jpg.rf.2f11829446b0cbefa6eb572f5b9ec72b.txt  \n",
            " extracting: /content/train/labels/21_jpg.rf.3023397d8f02be7f3e44bf4aad966f0d.txt  \n",
            " extracting: /content/train/labels/21_jpg.rf.969a85f84d2673d9dfac93d5b500d12c.txt  \n",
            " extracting: /content/train/labels/21_jpg.rf.9b96591ca8b133e0febde4728ba23221.txt  \n",
            " extracting: /content/train/labels/21_jpg.rf.9d4b6cee58ea86277cc27dcac3198c52.txt  \n",
            " extracting: /content/train/labels/21_jpg.rf.dd73b325874233b0a1749d94b28ca5fb.txt  \n",
            " extracting: /content/train/labels/21_jpg.rf.f91b8d77bd038c30a8911c10762adfc5.txt  \n",
            " extracting: /content/train/labels/21_jpg.rf.fa6125d8d253005562a41c437331a613.txt  \n",
            " extracting: /content/train/labels/22_jpg.rf.0bb6c194816a2b92d937a7b47f8b68a9.txt  \n",
            " extracting: /content/train/labels/22_jpg.rf.1854ced4ef093b042d27359ceb0a3ee3.txt  \n",
            " extracting: /content/train/labels/22_jpg.rf.2630120a55aad740c58412baeda09035.txt  \n",
            " extracting: /content/train/labels/22_jpg.rf.2b96fb21a6ccb076b4975ae745ca272e.txt  \n",
            " extracting: /content/train/labels/22_jpg.rf.5121977a293451f2ea796a381f3c375c.txt  \n",
            " extracting: /content/train/labels/22_jpg.rf.59611b4445808a48ee8897926e252d11.txt  \n",
            " extracting: /content/train/labels/22_jpg.rf.757edc148a04db22c88a3a6950ac1ad3.txt  \n",
            " extracting: /content/train/labels/22_jpg.rf.8f267019412a73a92729dce2f0042490.txt  \n",
            " extracting: /content/train/labels/22_jpg.rf.adcbdd11fb26e4b3cfbfb7e25c3e022b.txt  \n",
            " extracting: /content/train/labels/22_jpg.rf.b854349736aa834662ce4b27e1517ab4.txt  \n",
            " extracting: /content/train/labels/22_jpg.rf.ddf95752bd9457dd0fd168fe67a5786b.txt  \n",
            " extracting: /content/train/labels/22_jpg.rf.fccff0b1d9c7dd8f04b7e6ff731a525f.txt  \n",
            " extracting: /content/train/labels/23_jpg.rf.2e505239b2f0cfe44efd0b58e78483b0.txt  \n",
            " extracting: /content/train/labels/23_jpg.rf.2fdb96846ea064fb7b092156addb3936.txt  \n",
            " extracting: /content/train/labels/23_jpg.rf.309c1bd9ba232ce8d0fc5772ad24a0df.txt  \n",
            " extracting: /content/train/labels/23_jpg.rf.3dcc6dab2a83e3fb26e06ac451ca2f89.txt  \n",
            " extracting: /content/train/labels/23_jpg.rf.45d64889be799226590794c8f31fe04f.txt  \n",
            " extracting: /content/train/labels/23_jpg.rf.5366956889d6a1ec7bb0e8e6ad63010b.txt  \n",
            " extracting: /content/train/labels/23_jpg.rf.8311330ded9187d6a589ffa5f676a2f8.txt  \n",
            " extracting: /content/train/labels/23_jpg.rf.a0deebf0645feb728345f1deaf3baa14.txt  \n",
            " extracting: /content/train/labels/23_jpg.rf.e47a81351853bb105febc6afdf9bfe21.txt  \n",
            " extracting: /content/train/labels/24_jpg.rf.563f8e78796da162de1023fe2431bd59.txt  \n",
            " extracting: /content/train/labels/24_jpg.rf.6fb8e1f3beedd6c62b9ade8c4b9b57a5.txt  \n",
            " extracting: /content/train/labels/24_jpg.rf.81cf9d58aa6bd8310271ef4529624a88.txt  \n",
            " extracting: /content/train/labels/24_jpg.rf.96181d989fe173f16f099cb217b6bf0a.txt  \n",
            " extracting: /content/train/labels/24_jpg.rf.d52c09aad2526670b265e654517290c1.txt  \n",
            " extracting: /content/train/labels/24_jpg.rf.f77664ac2fefe656891f9c49f3219b78.txt  \n",
            " extracting: /content/train/labels/25_jpg.rf.3f3d37e8ebc995ee19bab002a69288fb.txt  \n",
            " extracting: /content/train/labels/25_jpg.rf.4ec376df41f040d4475cef2dffe02c36.txt  \n",
            " extracting: /content/train/labels/25_jpg.rf.a75a2122443a5d151a4a80c3139b017f.txt  \n",
            " extracting: /content/train/labels/26_jpg.rf.17c88fd5086102954632ecdd7738b13b.txt  \n",
            " extracting: /content/train/labels/26_jpg.rf.1be87ccd586e1e10fceda85cfd52e70c.txt  \n",
            " extracting: /content/train/labels/26_jpg.rf.45035c02e7fe706c25cbc62fa9728e9a.txt  \n",
            " extracting: /content/train/labels/26_jpg.rf.5ecfb25e187911503431a73e0819d676.txt  \n",
            " extracting: /content/train/labels/26_jpg.rf.a72711f63794e3362843b62a694fe2ec.txt  \n",
            " extracting: /content/train/labels/26_jpg.rf.cbd1844c3c893bbc6c6979c734ac49a0.txt  \n",
            " extracting: /content/train/labels/26_jpg.rf.dff6302e3283a0792207aa57b66e0349.txt  \n",
            " extracting: /content/train/labels/26_jpg.rf.e354611407a5438625c8dde021834771.txt  \n",
            " extracting: /content/train/labels/26_jpg.rf.f0ad9b6cdf183547c3810594b3a51c54.txt  \n",
            " extracting: /content/train/labels/27_jpg.rf.14c2afd73c02a8704c81e71bbc8034f1.txt  \n",
            " extracting: /content/train/labels/27_jpg.rf.19acaec3c1d97b358e53459e0e3da621.txt  \n",
            " extracting: /content/train/labels/27_jpg.rf.80d8769702818b54998b66f59b3ac7cf.txt  \n",
            " extracting: /content/train/labels/27_jpg.rf.8968557fcf3b067cbd5324616291e7bb.txt  \n",
            " extracting: /content/train/labels/27_jpg.rf.898c478c6fa16d952694fdd9b3c0afec.txt  \n",
            " extracting: /content/train/labels/27_jpg.rf.9646f19fb0cdbb3c640b53b5e21c797e.txt  \n",
            " extracting: /content/train/labels/27_jpg.rf.9df0b4cb5c575a5574bf6e8d4324841d.txt  \n",
            " extracting: /content/train/labels/27_jpg.rf.b36eea1db272a21d66ee2aeb536eda76.txt  \n",
            " extracting: /content/train/labels/27_jpg.rf.cc1d4e6e91e6f0afe959025e0587ed7e.txt  \n",
            " extracting: /content/train/labels/28_jpg.rf.0c9ff414120f45e6aca7f11ea8ba6b20.txt  \n",
            " extracting: /content/train/labels/28_jpg.rf.1f975676878ed1abf7a96960c414a988.txt  \n",
            " extracting: /content/train/labels/28_jpg.rf.62c01c01fdc2b29ef6e21bc4c1dc1c85.txt  \n",
            " extracting: /content/train/labels/28_jpg.rf.74a3b2e86fb3fe2594b3c3dea3286947.txt  \n",
            " extracting: /content/train/labels/28_jpg.rf.bf34bee2c61c238ca3e19d0640b72c02.txt  \n",
            " extracting: /content/train/labels/28_jpg.rf.f28c4adc4c526a9b76954cee9cce1021.txt  \n",
            " extracting: /content/train/labels/29_jpg.rf.227bda1f113bcea4fd14002fcbc2f58a.txt  \n",
            " extracting: /content/train/labels/29_jpg.rf.4acc57cf3840a66ee109a09b6ebaeab5.txt  \n",
            " extracting: /content/train/labels/29_jpg.rf.51928ab17d67420bcde28591ce765c21.txt  \n",
            " extracting: /content/train/labels/29_jpg.rf.53f5076f24e10c397dcf2b704d78c423.txt  \n",
            " extracting: /content/train/labels/29_jpg.rf.5a77861926174fedc34d53bbc9b75c11.txt  \n",
            " extracting: /content/train/labels/29_jpg.rf.e00633d5f8d657ade927ed247ef7a55b.txt  \n",
            " extracting: /content/train/labels/2_jpg.rf.7bd0bccc1f8c5724ef7f46a5623135e8.txt  \n",
            " extracting: /content/train/labels/2_jpg.rf.a23b2ea5a4ef953f7edf2f396eb85b29.txt  \n",
            " extracting: /content/train/labels/2_jpg.rf.d4db59a514f2d6ba75e914187c1ec8bc.txt  \n",
            " extracting: /content/train/labels/30_jpg.rf.116ae9073f7e76ccde008c91b4a1cb49.txt  \n",
            " extracting: /content/train/labels/30_jpg.rf.3135f508e26713e5d38d930288c8c1e3.txt  \n",
            " extracting: /content/train/labels/30_jpg.rf.341056bd851bf4bdc5ae44679a065985.txt  \n",
            " extracting: /content/train/labels/30_jpg.rf.67c4bde27095b0727097614ba63e72ec.txt  \n",
            " extracting: /content/train/labels/30_jpg.rf.71abbff8662a85eb17e519341ef058bc.txt  \n",
            " extracting: /content/train/labels/30_jpg.rf.7427c766977136205534dae3aec2b265.txt  \n",
            " extracting: /content/train/labels/30_jpg.rf.82677ce6caa404283b5ea6fb3e1599c8.txt  \n",
            " extracting: /content/train/labels/30_jpg.rf.a6931d88ecd0c82eed4518603f26056b.txt  \n",
            " extracting: /content/train/labels/30_jpg.rf.f0994559139ae3444f556d18f878433c.txt  \n",
            " extracting: /content/train/labels/3_jpg.rf.673ea9a9f0ecaf14437d49733f7140d1.txt  \n",
            " extracting: /content/train/labels/3_jpg.rf.7f6cd99c11c6b2f3e9153407e7d7f396.txt  \n",
            " extracting: /content/train/labels/3_jpg.rf.8ae54de118af3e0231ec7f75318cd218.txt  \n",
            " extracting: /content/train/labels/4_jpg.rf.06f771edfecf9a6b6b08f35fe8539553.txt  \n",
            " extracting: /content/train/labels/4_jpg.rf.0a15e122148bc3d7e530d516b0691d59.txt  \n",
            " extracting: /content/train/labels/4_jpg.rf.2df0aa9a8b64d3e91603e77395ee5136.txt  \n",
            " extracting: /content/train/labels/4_jpg.rf.2f31c2d5b42662fca201b569b6bc7de6.txt  \n",
            " extracting: /content/train/labels/4_jpg.rf.73713cd2e47701b0cd218cf354c9bacc.txt  \n",
            " extracting: /content/train/labels/4_jpg.rf.9eb5c82ce48d51f8e5a9f4ce71db8537.txt  \n",
            " extracting: /content/train/labels/4_jpg.rf.f34a9e1ee97cd3cf39ac13636d74daa6.txt  \n",
            " extracting: /content/train/labels/4_jpg.rf.f41c6e7f3cf9a6221b52b11ccc6b47a1.txt  \n",
            " extracting: /content/train/labels/5_jpg.rf.188694dc877c27c3410497a2178848dd.txt  \n",
            " extracting: /content/train/labels/5_jpg.rf.356dd3ff5e16a154bdc8ea0ca8573e4c.txt  \n",
            " extracting: /content/train/labels/5_jpg.rf.3b0cb3266cd453b79bba666c694929b4.txt  \n",
            " extracting: /content/train/labels/5_jpg.rf.4243ea35393857fdaa1df53291fb2ee8.txt  \n",
            " extracting: /content/train/labels/5_jpg.rf.5b58e05a020999aff564511184145444.txt  \n",
            " extracting: /content/train/labels/5_jpg.rf.6be7f2c2a3aa84d8a19e4caea66af284.txt  \n",
            " extracting: /content/train/labels/5_jpg.rf.aa8904d9031f5204fb6cc7ff575d8c84.txt  \n",
            " extracting: /content/train/labels/5_jpg.rf.afdb49f78a21a619b2c698f28ef8fd57.txt  \n",
            " extracting: /content/train/labels/5_jpg.rf.b0461d0d5aa43e7e0c6f5fed47a08c3b.txt  \n",
            " extracting: /content/train/labels/5_jpg.rf.b5fbdf1900999dc581186fe04a09581b.txt  \n",
            " extracting: /content/train/labels/5_jpg.rf.de1a3f9a3b1f80611e6340a254887c98.txt  \n",
            " extracting: /content/train/labels/5_jpg.rf.fde0e5bcda1ab265347917be66611096.txt  \n",
            " extracting: /content/train/labels/6_jpg.rf.5ce71c620cb43a6a1fd957bb2fe11630.txt  \n",
            " extracting: /content/train/labels/6_jpg.rf.5cfd6716c959920f530e38496c5d387d.txt  \n",
            " extracting: /content/train/labels/6_jpg.rf.8d42f6f9e601dd0fbf3fb83afacbe09d.txt  \n",
            " extracting: /content/train/labels/6_jpg.rf.93f2dc2c7be932cc9eb93f1143d06a98.txt  \n",
            " extracting: /content/train/labels/6_jpg.rf.98625c1a57e0f52260ce45c902b5439a.txt  \n",
            " extracting: /content/train/labels/6_jpg.rf.c7a5d5081055e9267f9a0898a794ef85.txt  \n",
            " extracting: /content/train/labels/7_jpg.rf.25ff472751aad27a3d921ba6ca46926c.txt  \n",
            " extracting: /content/train/labels/7_jpg.rf.681f353a404c2607e141c739015387d2.txt  \n",
            " extracting: /content/train/labels/7_jpg.rf.6dd0202711f191ed545d8379e51a8ea1.txt  \n",
            " extracting: /content/train/labels/7_jpg.rf.8f50c427f3a9416c23330a91453e39a4.txt  \n",
            " extracting: /content/train/labels/7_jpg.rf.8f954d2b64f91d80e82909b7ee123473.txt  \n",
            " extracting: /content/train/labels/7_jpg.rf.b1a0648e9ba3a8b2c10fa34272f1013a.txt  \n",
            " extracting: /content/train/labels/7_jpg.rf.be136fe1d8b660599832561afc6b3577.txt  \n",
            " extracting: /content/train/labels/7_jpg.rf.e2ab40fa80ab09890d6d85db3c3e0091.txt  \n",
            " extracting: /content/train/labels/7_jpg.rf.f7c1c0401b18579be37a35076b12c1eb.txt  \n",
            " extracting: /content/train/labels/8_jpg.rf.64af00b40580691c2ef9464ff82ce360.txt  \n",
            " extracting: /content/train/labels/8_jpg.rf.c8734bc1b8b7085cd1736bfad2aa4c07.txt  \n",
            " extracting: /content/train/labels/8_jpg.rf.f3260a47ac2af50669ea9445b188ea0e.txt  \n",
            " extracting: /content/train/labels/8_png.rf.588f0ea69bd2c745b17bb581c52dd6c0.txt  \n",
            " extracting: /content/train/labels/8_png.rf.7eda1c4d259f6db7024042fda7df2020.txt  \n",
            " extracting: /content/train/labels/8_png.rf.bf288c0dccec7a4ad7e9fb2b14c7cf84.txt  \n",
            " extracting: /content/train/labels/9_jpg.rf.2cf9c7d3cc1034ccb5607b3580f49487.txt  \n",
            " extracting: /content/train/labels/9_jpg.rf.32164e7ba5737b8d7641a0d11d67fb17.txt  \n",
            " extracting: /content/train/labels/9_jpg.rf.3280f166102fb86b3528b0e2db718480.txt  \n",
            " extracting: /content/train/labels/9_jpg.rf.5d56ce100037b19ad87a8f371a91fcb9.txt  \n",
            " extracting: /content/train/labels/9_jpg.rf.7eaeea94c2368a535a1e643248af3412.txt  \n",
            " extracting: /content/train/labels/9_jpg.rf.84e3a72d15a3fdbba38ed5b6d0ed482f.txt  \n",
            " extracting: /content/train/labels/9_jpg.rf.8df3f7ae4f1d87b256436fcc9baa309e.txt  \n",
            " extracting: /content/train/labels/9_jpg.rf.953304ebe6bffe22422f18ab998e1519.txt  \n",
            " extracting: /content/train/labels/9_jpg.rf.ec8f89acbb57584c0e2949573dc1d141.txt  \n",
            " extracting: /content/train/labels/wn8cg1_jpg.rf.168eb4c8c1054b81b9f73553e3771385.txt  \n",
            " extracting: /content/train/labels/wn8cg1_jpg.rf.5620345f5fc55210f0b591f5db244018.txt  \n",
            " extracting: /content/train/labels/wn8cg1_jpg.rf.d14d3cee31c17302f326d3014647a4a8.txt  \n",
            "   creating: /content/valid/\n",
            "   creating: /content/valid/images/\n",
            " extracting: /content/valid/images/10_jpg.rf.96bbd0d546ee612e027dc89a05f6a1e3.jpg  \n",
            " extracting: /content/valid/images/10_jpg.rf.9e04350d6b52d768e82091011506216b.jpg  \n",
            " extracting: /content/valid/images/13_png.rf.e5829e35099c0afd4bd5c2e11b702f12.jpg  \n",
            " extracting: /content/valid/images/14_jpg.rf.13085d06d5eda2b40f1a6a4ffb477594.jpg  \n",
            " extracting: /content/valid/images/15_jpg.rf.a0848205ab4b48d09f63e628359e5f18.jpg  \n",
            " extracting: /content/valid/images/15_jpg.rf.b3eb5985a5fc0b62f78d9874b1199795.jpg  \n",
            " extracting: /content/valid/images/19_jpg.rf.648f2c18cc2da49bbc17b22b248a578b.jpg  \n",
            " extracting: /content/valid/images/21_jpg.rf.569cc08dfb46b0ca26f5aa880baae559.jpg  \n",
            " extracting: /content/valid/images/23_jpg.rf.da57ddb7bd536afa738273654a6d80c0.jpg  \n",
            " extracting: /content/valid/images/24_jpg.rf.76df98a093286e0c7c9aa564565a60bc.jpg  \n",
            " extracting: /content/valid/images/25_jpg.rf.579d6d1da08eefa998945da7984d5a0c.jpg  \n",
            " extracting: /content/valid/images/25_jpg.rf.b23ada11dd2201c2a9675395f00e659a.jpg  \n",
            " extracting: /content/valid/images/25_jpg.rf.cbc33f4d84444416254ab759a045d20c.jpg  \n",
            " extracting: /content/valid/images/28_jpg.rf.4a5dc92c24925ae558d17e6f69a73307.jpg  \n",
            " extracting: /content/valid/images/28_jpg.rf.5b222b22bdb029c057b0669029b3efdc.jpg  \n",
            " extracting: /content/valid/images/29_jpg.rf.d2f869d66d8691838983af0a61b0ed1e.jpg  \n",
            " extracting: /content/valid/images/2_jpg.rf.86de138f77c0f3e08122a5a6a658d40d.jpg  \n",
            " extracting: /content/valid/images/3_jpg.rf.e8062172b1540792fe562f925adcc088.jpg  \n",
            " extracting: /content/valid/images/4_jpg.rf.7e3d307c80d8fa2ec6cbdbb41cc0802f.jpg  \n",
            " extracting: /content/valid/images/6_jpg.rf.abc0f9b7ca10d6cb7dd4dea067a803c9.jpg  \n",
            " extracting: /content/valid/images/7_jpg.rf.d469aec8cc7042fa8df958f3099e878e.jpg  \n",
            " extracting: /content/valid/images/8_jpg.rf.fd91b77565869bec7e93119ed6296532.jpg  \n",
            " extracting: /content/valid/images/8_png.rf.70a985fd4eb6085f2ea77877e40bf2fc.jpg  \n",
            " extracting: /content/valid/images/9_jpg.rf.40a437e32a068a86e1e4d53eb04d0f79.jpg  \n",
            "   creating: /content/valid/labels/\n",
            " extracting: /content/valid/labels/10_jpg.rf.96bbd0d546ee612e027dc89a05f6a1e3.txt  \n",
            " extracting: /content/valid/labels/10_jpg.rf.9e04350d6b52d768e82091011506216b.txt  \n",
            " extracting: /content/valid/labels/13_png.rf.e5829e35099c0afd4bd5c2e11b702f12.txt  \n",
            " extracting: /content/valid/labels/14_jpg.rf.13085d06d5eda2b40f1a6a4ffb477594.txt  \n",
            " extracting: /content/valid/labels/15_jpg.rf.a0848205ab4b48d09f63e628359e5f18.txt  \n",
            " extracting: /content/valid/labels/15_jpg.rf.b3eb5985a5fc0b62f78d9874b1199795.txt  \n",
            " extracting: /content/valid/labels/19_jpg.rf.648f2c18cc2da49bbc17b22b248a578b.txt  \n",
            " extracting: /content/valid/labels/21_jpg.rf.569cc08dfb46b0ca26f5aa880baae559.txt  \n",
            " extracting: /content/valid/labels/23_jpg.rf.da57ddb7bd536afa738273654a6d80c0.txt  \n",
            " extracting: /content/valid/labels/24_jpg.rf.76df98a093286e0c7c9aa564565a60bc.txt  \n",
            " extracting: /content/valid/labels/25_jpg.rf.579d6d1da08eefa998945da7984d5a0c.txt  \n",
            " extracting: /content/valid/labels/25_jpg.rf.b23ada11dd2201c2a9675395f00e659a.txt  \n",
            " extracting: /content/valid/labels/25_jpg.rf.cbc33f4d84444416254ab759a045d20c.txt  \n",
            " extracting: /content/valid/labels/28_jpg.rf.4a5dc92c24925ae558d17e6f69a73307.txt  \n",
            " extracting: /content/valid/labels/28_jpg.rf.5b222b22bdb029c057b0669029b3efdc.txt  \n",
            " extracting: /content/valid/labels/29_jpg.rf.d2f869d66d8691838983af0a61b0ed1e.txt  \n",
            " extracting: /content/valid/labels/2_jpg.rf.86de138f77c0f3e08122a5a6a658d40d.txt  \n",
            " extracting: /content/valid/labels/3_jpg.rf.e8062172b1540792fe562f925adcc088.txt  \n",
            " extracting: /content/valid/labels/4_jpg.rf.7e3d307c80d8fa2ec6cbdbb41cc0802f.txt  \n",
            " extracting: /content/valid/labels/6_jpg.rf.abc0f9b7ca10d6cb7dd4dea067a803c9.txt  \n",
            " extracting: /content/valid/labels/7_jpg.rf.d469aec8cc7042fa8df958f3099e878e.txt  \n",
            " extracting: /content/valid/labels/8_jpg.rf.fd91b77565869bec7e93119ed6296532.txt  \n",
            " extracting: /content/valid/labels/8_png.rf.70a985fd4eb6085f2ea77877e40bf2fc.txt  \n",
            " extracting: /content/valid/labels/9_jpg.rf.40a437e32a068a86e1e4d53eb04d0f79.txt  \n"
          ]
        }
      ]
    },
    {
      "cell_type": "markdown",
      "source": [],
      "metadata": {
        "id": "bKuJAJrCDU_F"
      }
    },
    {
      "cell_type": "code",
      "source": [
        "!python train.py --batch 16 --epochs 20 --img 640 --device 0 --min-items 0 --close-mosaic 15 --data /content/data.yaml --weights {HOME}/weights/gelan-c.pt --cfg models/detect/gelan-c.yaml --hyp hyp.scratch-high.yaml"
      ],
      "metadata": {
        "colab": {
          "base_uri": "https://localhost:8080/"
        },
        "id": "PIdTFr4MBjzN",
        "outputId": "91ca3246-6667-4b40-fcb1-a4b5a2b1f09d"
      },
      "execution_count": null,
      "outputs": [
        {
          "output_type": "stream",
          "name": "stdout",
          "text": [
            "Traceback (most recent call last):\n",
            "  File \"<frozen importlib._bootstrap>\", line 1027, in _find_and_load\n",
            "  File \"<frozen importlib._bootstrap>\", line 1006, in _find_and_load_unlocked\n",
            "  File \"<frozen importlib._bootstrap>\", line 688, in _load_unlocked\n",
            "  File \"<frozen importlib._bootstrap_external>\", line 883, in exec_module\n",
            "  File \"<frozen importlib._bootstrap>\", line 241, in _call_with_frames_removed\n",
            "  File \"/usr/local/lib/python3.10/dist-packages/pandas/core/groupby/generic.py\", line 77, in <module>\n",
            "    from pandas.core.frame import DataFrame\n",
            "  File \"/usr/local/lib/python3.10/dist-packages/pandas/core/frame.py\", line 182, in <module>\n",
            "    from pandas.core.generic import NDFrame\n",
            "  File \"/usr/local/lib/python3.10/dist-packages/pandas/core/generic.py\", line 179, in <module>\n",
            "    from pandas.core.window import (\n",
            "  File \"/usr/local/lib/python3.10/dist-packages/pandas/core/window/__init__.py\", line 1, in <module>\n",
            "    from pandas.core.window.ewm import (\n",
            "  File \"/usr/local/lib/python3.10/dist-packages/pandas/core/window/ewm.py\", line 58, in <module>\n",
            "    from pandas.core.window.rolling import (\n",
            "  File \"/usr/local/lib/python3.10/dist-packages/pandas/core/window/rolling.py\", line 1737, in <module>\n",
            "    class Rolling(RollingAndExpandingMixin):\n",
            "  File \"/usr/local/lib/python3.10/dist-packages/pandas/core/window/rolling.py\", line 2608, in Rolling\n",
            "    dedent(\n",
            "  File \"/usr/lib/python3.10/textwrap.py\", line 439, in dedent\n",
            "    indents = _leading_whitespace_re.findall(text)\n",
            "KeyboardInterrupt\n",
            "\n",
            "During handling of the above exception, another exception occurred:\n",
            "\n",
            "Traceback (most recent call last):\n",
            "  File \"/content/yolov9/train.py\", line 25, in <module>\n",
            "    import val as validate  # for end-of-epoch mAP\n",
            "  File \"/content/yolov9/val.py\", line 17, in <module>\n",
            "    from models.common import DetectMultiBackend\n",
            "  File \"/content/yolov9/models/common.py\", line 17, in <module>\n",
            "    import pandas as pd\n",
            "  File \"/usr/local/lib/python3.10/dist-packages/pandas/__init__.py\", line 48, in <module>\n",
            "    from pandas.core.api import (\n",
            "  File \"/usr/local/lib/python3.10/dist-packages/pandas/core/api.py\", line 47, in <module>\n",
            "    from pandas.core.groupby import (\n",
            "  File \"/usr/local/lib/python3.10/dist-packages/pandas/core/groupby/__init__.py\", line 1, in <module>\n",
            "    from pandas.core.groupby.generic import (\n",
            "  File \"<frozen importlib._bootstrap>\", line 1027, in _find_and_load\n",
            "KeyboardInterrupt\n",
            "^C\n"
          ]
        }
      ]
    },
    {
      "cell_type": "code",
      "source": [
        "from ultralytics import YOLO"
      ],
      "metadata": {
        "id": "r_W8C7ErBj4k"
      },
      "execution_count": null,
      "outputs": []
    },
    {
      "cell_type": "code",
      "source": [
        "!pip install ultralytics"
      ],
      "metadata": {
        "colab": {
          "base_uri": "https://localhost:8080/"
        },
        "id": "B_-FJgYOBj7d",
        "outputId": "494d2471-fe89-472a-9577-0b9fe08f8f9e"
      },
      "execution_count": null,
      "outputs": [
        {
          "output_type": "stream",
          "name": "stdout",
          "text": [
            "Collecting ultralytics\n",
            "  Downloading ultralytics-8.1.44-py3-none-any.whl (749 kB)\n",
            "\u001b[2K     \u001b[90m━━━━━━━━━━━━━━━━━━━━━━━━━━━━━━━━━━━━━━━━\u001b[0m \u001b[32m749.5/749.5 kB\u001b[0m \u001b[31m4.4 MB/s\u001b[0m eta \u001b[36m0:00:00\u001b[0m\n",
            "\u001b[?25hRequirement already satisfied: matplotlib>=3.3.0 in /usr/local/lib/python3.10/dist-packages (from ultralytics) (3.7.1)\n",
            "Requirement already satisfied: opencv-python>=4.6.0 in /usr/local/lib/python3.10/dist-packages (from ultralytics) (4.8.0.76)\n",
            "Requirement already satisfied: pillow>=7.1.2 in /usr/local/lib/python3.10/dist-packages (from ultralytics) (9.4.0)\n",
            "Requirement already satisfied: pyyaml>=5.3.1 in /usr/local/lib/python3.10/dist-packages (from ultralytics) (6.0.1)\n",
            "Requirement already satisfied: requests>=2.23.0 in /usr/local/lib/python3.10/dist-packages (from ultralytics) (2.31.0)\n",
            "Requirement already satisfied: scipy>=1.4.1 in /usr/local/lib/python3.10/dist-packages (from ultralytics) (1.11.4)\n",
            "Requirement already satisfied: torch>=1.8.0 in /usr/local/lib/python3.10/dist-packages (from ultralytics) (2.2.1+cu121)\n",
            "Requirement already satisfied: torchvision>=0.9.0 in /usr/local/lib/python3.10/dist-packages (from ultralytics) (0.17.1+cu121)\n",
            "Requirement already satisfied: tqdm>=4.64.0 in /usr/local/lib/python3.10/dist-packages (from ultralytics) (4.66.2)\n",
            "Requirement already satisfied: psutil in /usr/local/lib/python3.10/dist-packages (from ultralytics) (5.9.5)\n",
            "Requirement already satisfied: py-cpuinfo in /usr/local/lib/python3.10/dist-packages (from ultralytics) (9.0.0)\n",
            "Requirement already satisfied: thop>=0.1.1 in /usr/local/lib/python3.10/dist-packages (from ultralytics) (0.1.1.post2209072238)\n",
            "Requirement already satisfied: pandas>=1.1.4 in /usr/local/lib/python3.10/dist-packages (from ultralytics) (2.0.3)\n",
            "Requirement already satisfied: seaborn>=0.11.0 in /usr/local/lib/python3.10/dist-packages (from ultralytics) (0.13.1)\n",
            "Requirement already satisfied: contourpy>=1.0.1 in /usr/local/lib/python3.10/dist-packages (from matplotlib>=3.3.0->ultralytics) (1.2.0)\n",
            "Requirement already satisfied: cycler>=0.10 in /usr/local/lib/python3.10/dist-packages (from matplotlib>=3.3.0->ultralytics) (0.12.1)\n",
            "Requirement already satisfied: fonttools>=4.22.0 in /usr/local/lib/python3.10/dist-packages (from matplotlib>=3.3.0->ultralytics) (4.50.0)\n",
            "Requirement already satisfied: kiwisolver>=1.0.1 in /usr/local/lib/python3.10/dist-packages (from matplotlib>=3.3.0->ultralytics) (1.4.5)\n",
            "Requirement already satisfied: numpy>=1.20 in /usr/local/lib/python3.10/dist-packages (from matplotlib>=3.3.0->ultralytics) (1.25.2)\n",
            "Requirement already satisfied: packaging>=20.0 in /usr/local/lib/python3.10/dist-packages (from matplotlib>=3.3.0->ultralytics) (24.0)\n",
            "Requirement already satisfied: pyparsing>=2.3.1 in /usr/local/lib/python3.10/dist-packages (from matplotlib>=3.3.0->ultralytics) (3.1.2)\n",
            "Requirement already satisfied: python-dateutil>=2.7 in /usr/local/lib/python3.10/dist-packages (from matplotlib>=3.3.0->ultralytics) (2.8.2)\n",
            "Requirement already satisfied: pytz>=2020.1 in /usr/local/lib/python3.10/dist-packages (from pandas>=1.1.4->ultralytics) (2023.4)\n",
            "Requirement already satisfied: tzdata>=2022.1 in /usr/local/lib/python3.10/dist-packages (from pandas>=1.1.4->ultralytics) (2024.1)\n",
            "Requirement already satisfied: charset-normalizer<4,>=2 in /usr/local/lib/python3.10/dist-packages (from requests>=2.23.0->ultralytics) (3.3.2)\n",
            "Requirement already satisfied: idna<4,>=2.5 in /usr/local/lib/python3.10/dist-packages (from requests>=2.23.0->ultralytics) (3.6)\n",
            "Requirement already satisfied: urllib3<3,>=1.21.1 in /usr/local/lib/python3.10/dist-packages (from requests>=2.23.0->ultralytics) (2.0.7)\n",
            "Requirement already satisfied: certifi>=2017.4.17 in /usr/local/lib/python3.10/dist-packages (from requests>=2.23.0->ultralytics) (2024.2.2)\n",
            "Requirement already satisfied: filelock in /usr/local/lib/python3.10/dist-packages (from torch>=1.8.0->ultralytics) (3.13.3)\n",
            "Requirement already satisfied: typing-extensions>=4.8.0 in /usr/local/lib/python3.10/dist-packages (from torch>=1.8.0->ultralytics) (4.10.0)\n",
            "Requirement already satisfied: sympy in /usr/local/lib/python3.10/dist-packages (from torch>=1.8.0->ultralytics) (1.12)\n",
            "Requirement already satisfied: networkx in /usr/local/lib/python3.10/dist-packages (from torch>=1.8.0->ultralytics) (3.2.1)\n",
            "Requirement already satisfied: jinja2 in /usr/local/lib/python3.10/dist-packages (from torch>=1.8.0->ultralytics) (3.1.3)\n",
            "Requirement already satisfied: fsspec in /usr/local/lib/python3.10/dist-packages (from torch>=1.8.0->ultralytics) (2023.6.0)\n",
            "Requirement already satisfied: nvidia-cuda-nvrtc-cu12==12.1.105 in /usr/local/lib/python3.10/dist-packages (from torch>=1.8.0->ultralytics) (12.1.105)\n",
            "Requirement already satisfied: nvidia-cuda-runtime-cu12==12.1.105 in /usr/local/lib/python3.10/dist-packages (from torch>=1.8.0->ultralytics) (12.1.105)\n",
            "Requirement already satisfied: nvidia-cuda-cupti-cu12==12.1.105 in /usr/local/lib/python3.10/dist-packages (from torch>=1.8.0->ultralytics) (12.1.105)\n",
            "Requirement already satisfied: nvidia-cudnn-cu12==8.9.2.26 in /usr/local/lib/python3.10/dist-packages (from torch>=1.8.0->ultralytics) (8.9.2.26)\n",
            "Requirement already satisfied: nvidia-cublas-cu12==12.1.3.1 in /usr/local/lib/python3.10/dist-packages (from torch>=1.8.0->ultralytics) (12.1.3.1)\n",
            "Requirement already satisfied: nvidia-cufft-cu12==11.0.2.54 in /usr/local/lib/python3.10/dist-packages (from torch>=1.8.0->ultralytics) (11.0.2.54)\n",
            "Requirement already satisfied: nvidia-curand-cu12==10.3.2.106 in /usr/local/lib/python3.10/dist-packages (from torch>=1.8.0->ultralytics) (10.3.2.106)\n",
            "Requirement already satisfied: nvidia-cusolver-cu12==11.4.5.107 in /usr/local/lib/python3.10/dist-packages (from torch>=1.8.0->ultralytics) (11.4.5.107)\n",
            "Requirement already satisfied: nvidia-cusparse-cu12==12.1.0.106 in /usr/local/lib/python3.10/dist-packages (from torch>=1.8.0->ultralytics) (12.1.0.106)\n",
            "Requirement already satisfied: nvidia-nccl-cu12==2.19.3 in /usr/local/lib/python3.10/dist-packages (from torch>=1.8.0->ultralytics) (2.19.3)\n",
            "Requirement already satisfied: nvidia-nvtx-cu12==12.1.105 in /usr/local/lib/python3.10/dist-packages (from torch>=1.8.0->ultralytics) (12.1.105)\n",
            "Requirement already satisfied: triton==2.2.0 in /usr/local/lib/python3.10/dist-packages (from torch>=1.8.0->ultralytics) (2.2.0)\n",
            "Requirement already satisfied: nvidia-nvjitlink-cu12 in /usr/local/lib/python3.10/dist-packages (from nvidia-cusolver-cu12==11.4.5.107->torch>=1.8.0->ultralytics) (12.4.127)\n",
            "Requirement already satisfied: six>=1.5 in /usr/local/lib/python3.10/dist-packages (from python-dateutil>=2.7->matplotlib>=3.3.0->ultralytics) (1.16.0)\n",
            "Requirement already satisfied: MarkupSafe>=2.0 in /usr/local/lib/python3.10/dist-packages (from jinja2->torch>=1.8.0->ultralytics) (2.1.5)\n",
            "Requirement already satisfied: mpmath>=0.19 in /usr/local/lib/python3.10/dist-packages (from sympy->torch>=1.8.0->ultralytics) (1.3.0)\n",
            "Installing collected packages: ultralytics\n",
            "Successfully installed ultralytics-8.1.44\n"
          ]
        }
      ]
    },
    {
      "cell_type": "code",
      "source": [
        "model = YOLO('yolov9c.pt')"
      ],
      "metadata": {
        "id": "QQwWAVGNXGcU"
      },
      "execution_count": null,
      "outputs": []
    },
    {
      "cell_type": "code",
      "source": [
        "results = model.train(data='/content/data.yaml', epochs=100, imgsz=640)"
      ],
      "metadata": {
        "colab": {
          "base_uri": "https://localhost:8080/"
        },
        "id": "ay7edk01BkEe",
        "outputId": "76873ed2-05ed-47c0-b7d2-737c7f7b4260"
      },
      "execution_count": null,
      "outputs": [
        {
          "output_type": "stream",
          "name": "stdout",
          "text": [
            "Ultralytics YOLOv8.1.44 🚀 Python-3.10.12 torch-2.2.1+cu121 CUDA:0 (Tesla T4, 15102MiB)\n",
            "\u001b[34m\u001b[1mengine/trainer: \u001b[0mtask=detect, mode=train, model=yolov9c.pt, data=/content/data.yaml, epochs=100, time=None, patience=100, batch=16, imgsz=640, save=True, save_period=-1, cache=False, device=None, workers=8, project=None, name=train22, exist_ok=False, pretrained=True, optimizer=auto, verbose=True, seed=0, deterministic=True, single_cls=False, rect=False, cos_lr=False, close_mosaic=10, resume=False, amp=True, fraction=1.0, profile=False, freeze=None, multi_scale=False, overlap_mask=True, mask_ratio=4, dropout=0.0, val=True, split=val, save_json=False, save_hybrid=False, conf=None, iou=0.7, max_det=300, half=False, dnn=False, plots=True, source=None, vid_stride=1, stream_buffer=False, visualize=False, augment=False, agnostic_nms=False, classes=None, retina_masks=False, embed=None, show=False, save_frames=False, save_txt=False, save_conf=False, save_crop=False, show_labels=True, show_conf=True, show_boxes=True, line_width=None, format=torchscript, keras=False, optimize=False, int8=False, dynamic=False, simplify=False, opset=None, workspace=4, nms=False, lr0=0.01, lrf=0.01, momentum=0.937, weight_decay=0.0005, warmup_epochs=3.0, warmup_momentum=0.8, warmup_bias_lr=0.0, box=7.5, cls=0.5, dfl=1.5, pose=12.0, kobj=1.0, label_smoothing=0.0, nbs=64, hsv_h=0.015, hsv_s=0.7, hsv_v=0.4, degrees=0.0, translate=0.1, scale=0.5, shear=0.0, perspective=0.0, flipud=0.0, fliplr=0.5, bgr=0.0, mosaic=0.0, mixup=0.0, copy_paste=0.0, auto_augment=randaugment, erasing=0.4, crop_fraction=1.0, cfg=None, tracker=botsort.yaml, save_dir=runs/detect/train22\n",
            "\n",
            "                   from  n    params  module                                       arguments                     \n",
            "  0                  -1  1      1856  ultralytics.nn.modules.conv.Conv             [3, 64, 3, 2]                 \n",
            "  1                  -1  1     73984  ultralytics.nn.modules.conv.Conv             [64, 128, 3, 2]               \n",
            "  2                  -1  1    212864  ultralytics.nn.modules.block.RepNCSPELAN4    [128, 256, 128, 64, 1]        \n",
            "  3                  -1  1    164352  ultralytics.nn.modules.block.ADown           [256, 256]                    \n",
            "  4                  -1  1    847616  ultralytics.nn.modules.block.RepNCSPELAN4    [256, 512, 256, 128, 1]       \n",
            "  5                  -1  1    656384  ultralytics.nn.modules.block.ADown           [512, 512]                    \n",
            "  6                  -1  1   2857472  ultralytics.nn.modules.block.RepNCSPELAN4    [512, 512, 512, 256, 1]       \n",
            "  7                  -1  1    656384  ultralytics.nn.modules.block.ADown           [512, 512]                    \n",
            "  8                  -1  1   2857472  ultralytics.nn.modules.block.RepNCSPELAN4    [512, 512, 512, 256, 1]       \n",
            "  9                  -1  1    656896  ultralytics.nn.modules.block.SPPELAN         [512, 512, 256]               \n",
            " 10                  -1  1         0  torch.nn.modules.upsampling.Upsample         [None, 2, 'nearest']          \n",
            " 11             [-1, 6]  1         0  ultralytics.nn.modules.conv.Concat           [1]                           \n",
            " 12                  -1  1   3119616  ultralytics.nn.modules.block.RepNCSPELAN4    [1024, 512, 512, 256, 1]      \n",
            " 13                  -1  1         0  torch.nn.modules.upsampling.Upsample         [None, 2, 'nearest']          \n",
            " 14             [-1, 4]  1         0  ultralytics.nn.modules.conv.Concat           [1]                           \n",
            " 15                  -1  1    912640  ultralytics.nn.modules.block.RepNCSPELAN4    [1024, 256, 256, 128, 1]      \n",
            " 16                  -1  1    164352  ultralytics.nn.modules.block.ADown           [256, 256]                    \n",
            " 17            [-1, 12]  1         0  ultralytics.nn.modules.conv.Concat           [1]                           \n",
            " 18                  -1  1   2988544  ultralytics.nn.modules.block.RepNCSPELAN4    [768, 512, 512, 256, 1]       \n",
            " 19                  -1  1    656384  ultralytics.nn.modules.block.ADown           [512, 512]                    \n",
            " 20             [-1, 9]  1         0  ultralytics.nn.modules.conv.Concat           [1]                           \n",
            " 21                  -1  1   3119616  ultralytics.nn.modules.block.RepNCSPELAN4    [1024, 512, 512, 256, 1]      \n",
            " 22        [15, 18, 21]  1   5585884  ultralytics.nn.modules.head.Detect           [4, [256, 512, 512]]          \n",
            "YOLOv9c summary: 618 layers, 25532316 parameters, 25532300 gradients, 103.7 GFLOPs\n",
            "\n",
            "Transferred 937/937 items from pretrained weights\n",
            "\u001b[34m\u001b[1mTensorBoard: \u001b[0mStart with 'tensorboard --logdir runs/detect/train22', view at http://localhost:6006/\n",
            "Freezing layer 'model.22.dfl.conv.weight'\n",
            "\u001b[34m\u001b[1mAMP: \u001b[0mrunning Automatic Mixed Precision (AMP) checks with YOLOv8n...\n",
            "\u001b[34m\u001b[1mAMP: \u001b[0mchecks passed ✅\n"
          ]
        },
        {
          "output_type": "stream",
          "name": "stderr",
          "text": [
            "\u001b[34m\u001b[1mtrain: \u001b[0mScanning /content/train/labels.cache... 250 images, 0 backgrounds, 0 corrupt: 100%|██████████| 250/250 [00:00<?, ?it/s]"
          ]
        },
        {
          "output_type": "stream",
          "name": "stdout",
          "text": [
            "\u001b[34m\u001b[1malbumentations: \u001b[0mBlur(p=0.01, blur_limit=(3, 7)), MedianBlur(p=0.01, blur_limit=(3, 7)), ToGray(p=0.01), CLAHE(p=0.01, clip_limit=(1, 4.0), tile_grid_size=(8, 8))\n"
          ]
        },
        {
          "output_type": "stream",
          "name": "stderr",
          "text": [
            "\n",
            "\u001b[34m\u001b[1mval: \u001b[0mScanning /content/valid/labels.cache... 24 images, 0 backgrounds, 0 corrupt: 100%|██████████| 24/24 [00:00<?, ?it/s]\n"
          ]
        },
        {
          "output_type": "stream",
          "name": "stdout",
          "text": [
            "Plotting labels to runs/detect/train22/labels.jpg... \n",
            "\u001b[34m\u001b[1moptimizer:\u001b[0m 'optimizer=auto' found, ignoring 'lr0=0.01' and 'momentum=0.937' and determining best 'optimizer', 'lr0' and 'momentum' automatically... \n",
            "\u001b[34m\u001b[1moptimizer:\u001b[0m AdamW(lr=0.00125, momentum=0.9) with parameter groups 154 weight(decay=0.0), 161 weight(decay=0.0005), 160 bias(decay=0.0)\n",
            "\u001b[34m\u001b[1mTensorBoard: \u001b[0mmodel graph visualization added ✅\n",
            "Image sizes 640 train, 640 val\n",
            "Using 2 dataloader workers\n",
            "Logging results to \u001b[1mruns/detect/train22\u001b[0m\n",
            "Starting training for 100 epochs...\n",
            "\n",
            "      Epoch    GPU_mem   box_loss   cls_loss   dfl_loss  Instances       Size\n"
          ]
        },
        {
          "output_type": "stream",
          "name": "stderr",
          "text": [
            "      1/100      11.1G     0.3584      0.232     0.9549         13        640: 100%|██████████| 16/16 [00:13<00:00,  1.21it/s]\n",
            "                 Class     Images  Instances      Box(P          R      mAP50  mAP50-95): 100%|██████████| 1/1 [00:00<00:00,  2.07it/s]"
          ]
        },
        {
          "output_type": "stream",
          "name": "stdout",
          "text": [
            "                   all         24         38      0.953      0.921      0.981      0.882\n"
          ]
        },
        {
          "output_type": "stream",
          "name": "stderr",
          "text": [
            "\n"
          ]
        },
        {
          "output_type": "stream",
          "name": "stdout",
          "text": [
            "\n",
            "      Epoch    GPU_mem   box_loss   cls_loss   dfl_loss  Instances       Size\n"
          ]
        },
        {
          "output_type": "stream",
          "name": "stderr",
          "text": [
            "      2/100      11.4G     0.4857     0.2727       1.07         15        640: 100%|██████████| 16/16 [00:12<00:00,  1.33it/s]\n",
            "                 Class     Images  Instances      Box(P          R      mAP50  mAP50-95): 100%|██████████| 1/1 [00:00<00:00,  2.14it/s]"
          ]
        },
        {
          "output_type": "stream",
          "name": "stdout",
          "text": [
            "                   all         24         38      0.911      0.905      0.966      0.855\n"
          ]
        },
        {
          "output_type": "stream",
          "name": "stderr",
          "text": [
            "\n"
          ]
        },
        {
          "output_type": "stream",
          "name": "stdout",
          "text": [
            "\n",
            "      Epoch    GPU_mem   box_loss   cls_loss   dfl_loss  Instances       Size\n"
          ]
        },
        {
          "output_type": "stream",
          "name": "stderr",
          "text": [
            "      3/100      11.4G     0.4757     0.2942      1.034         15        640: 100%|██████████| 16/16 [00:12<00:00,  1.33it/s]\n",
            "                 Class     Images  Instances      Box(P          R      mAP50  mAP50-95): 100%|██████████| 1/1 [00:00<00:00,  2.18it/s]"
          ]
        },
        {
          "output_type": "stream",
          "name": "stdout",
          "text": [
            "                   all         24         38      0.848      0.949      0.928      0.818\n"
          ]
        },
        {
          "output_type": "stream",
          "name": "stderr",
          "text": [
            "\n"
          ]
        },
        {
          "output_type": "stream",
          "name": "stdout",
          "text": [
            "\n",
            "      Epoch    GPU_mem   box_loss   cls_loss   dfl_loss  Instances       Size\n"
          ]
        },
        {
          "output_type": "stream",
          "name": "stderr",
          "text": [
            "      4/100      11.2G     0.5344     0.3405      1.079         23        640: 100%|██████████| 16/16 [00:11<00:00,  1.34it/s]\n",
            "                 Class     Images  Instances      Box(P          R      mAP50  mAP50-95): 100%|██████████| 1/1 [00:00<00:00,  2.14it/s]"
          ]
        },
        {
          "output_type": "stream",
          "name": "stdout",
          "text": [
            "                   all         24         38       0.74      0.843      0.872      0.751\n"
          ]
        },
        {
          "output_type": "stream",
          "name": "stderr",
          "text": [
            "\n"
          ]
        },
        {
          "output_type": "stream",
          "name": "stdout",
          "text": [
            "\n",
            "      Epoch    GPU_mem   box_loss   cls_loss   dfl_loss  Instances       Size\n"
          ]
        },
        {
          "output_type": "stream",
          "name": "stderr",
          "text": [
            "      5/100      11.2G     0.5679     0.5149      1.139         14        640: 100%|██████████| 16/16 [00:11<00:00,  1.35it/s]\n",
            "                 Class     Images  Instances      Box(P          R      mAP50  mAP50-95): 100%|██████████| 1/1 [00:00<00:00,  1.62it/s]"
          ]
        },
        {
          "output_type": "stream",
          "name": "stdout",
          "text": [
            "                   all         24         38      0.774      0.881      0.897      0.758\n"
          ]
        },
        {
          "output_type": "stream",
          "name": "stderr",
          "text": [
            "\n"
          ]
        },
        {
          "output_type": "stream",
          "name": "stdout",
          "text": [
            "\n",
            "      Epoch    GPU_mem   box_loss   cls_loss   dfl_loss  Instances       Size\n"
          ]
        },
        {
          "output_type": "stream",
          "name": "stderr",
          "text": [
            "      6/100      11.2G     0.5629     0.5606      1.091         18        640: 100%|██████████| 16/16 [00:11<00:00,  1.35it/s]\n",
            "                 Class     Images  Instances      Box(P          R      mAP50  mAP50-95): 100%|██████████| 1/1 [00:00<00:00,  2.18it/s]"
          ]
        },
        {
          "output_type": "stream",
          "name": "stdout",
          "text": [
            "                   all         24         38      0.525      0.578      0.607      0.505\n"
          ]
        },
        {
          "output_type": "stream",
          "name": "stderr",
          "text": [
            "\n"
          ]
        },
        {
          "output_type": "stream",
          "name": "stdout",
          "text": [
            "\n",
            "      Epoch    GPU_mem   box_loss   cls_loss   dfl_loss  Instances       Size\n"
          ]
        },
        {
          "output_type": "stream",
          "name": "stderr",
          "text": [
            "      7/100      11.1G      0.562     0.4813      1.102         19        640: 100%|██████████| 16/16 [00:11<00:00,  1.35it/s]\n",
            "                 Class     Images  Instances      Box(P          R      mAP50  mAP50-95): 100%|██████████| 1/1 [00:00<00:00,  2.11it/s]"
          ]
        },
        {
          "output_type": "stream",
          "name": "stdout",
          "text": [
            "                   all         24         38      0.534      0.825        0.7       0.61\n"
          ]
        },
        {
          "output_type": "stream",
          "name": "stderr",
          "text": [
            "\n"
          ]
        },
        {
          "output_type": "stream",
          "name": "stdout",
          "text": [
            "\n",
            "      Epoch    GPU_mem   box_loss   cls_loss   dfl_loss  Instances       Size\n"
          ]
        },
        {
          "output_type": "stream",
          "name": "stderr",
          "text": [
            "      8/100      11.1G     0.5688       0.44      1.111         14        640: 100%|██████████| 16/16 [00:11<00:00,  1.35it/s]\n",
            "                 Class     Images  Instances      Box(P          R      mAP50  mAP50-95): 100%|██████████| 1/1 [00:00<00:00,  2.14it/s]"
          ]
        },
        {
          "output_type": "stream",
          "name": "stdout",
          "text": [
            "                   all         24         38      0.809      0.731      0.843       0.71\n"
          ]
        },
        {
          "output_type": "stream",
          "name": "stderr",
          "text": [
            "\n"
          ]
        },
        {
          "output_type": "stream",
          "name": "stdout",
          "text": [
            "\n",
            "      Epoch    GPU_mem   box_loss   cls_loss   dfl_loss  Instances       Size\n"
          ]
        },
        {
          "output_type": "stream",
          "name": "stderr",
          "text": [
            "      9/100      11.2G     0.5735     0.4945       1.11         16        640: 100%|██████████| 16/16 [00:11<00:00,  1.34it/s]\n",
            "                 Class     Images  Instances      Box(P          R      mAP50  mAP50-95): 100%|██████████| 1/1 [00:00<00:00,  2.18it/s]"
          ]
        },
        {
          "output_type": "stream",
          "name": "stdout",
          "text": [
            "                   all         24         38      0.813      0.683      0.779      0.657\n"
          ]
        },
        {
          "output_type": "stream",
          "name": "stderr",
          "text": [
            "\n"
          ]
        },
        {
          "output_type": "stream",
          "name": "stdout",
          "text": [
            "\n",
            "      Epoch    GPU_mem   box_loss   cls_loss   dfl_loss  Instances       Size\n"
          ]
        },
        {
          "output_type": "stream",
          "name": "stderr",
          "text": [
            "     10/100      11.1G     0.5783     0.4515        1.1         18        640: 100%|██████████| 16/16 [00:11<00:00,  1.35it/s]\n",
            "                 Class     Images  Instances      Box(P          R      mAP50  mAP50-95): 100%|██████████| 1/1 [00:00<00:00,  2.18it/s]"
          ]
        },
        {
          "output_type": "stream",
          "name": "stdout",
          "text": [
            "                   all         24         38      0.418      0.583      0.515       0.41\n"
          ]
        },
        {
          "output_type": "stream",
          "name": "stderr",
          "text": [
            "\n"
          ]
        },
        {
          "output_type": "stream",
          "name": "stdout",
          "text": [
            "\n",
            "      Epoch    GPU_mem   box_loss   cls_loss   dfl_loss  Instances       Size\n"
          ]
        },
        {
          "output_type": "stream",
          "name": "stderr",
          "text": [
            "     11/100      11.2G     0.6133     0.4899      1.154         25        640: 100%|██████████| 16/16 [00:11<00:00,  1.36it/s]\n",
            "                 Class     Images  Instances      Box(P          R      mAP50  mAP50-95): 100%|██████████| 1/1 [00:00<00:00,  2.17it/s]"
          ]
        },
        {
          "output_type": "stream",
          "name": "stdout",
          "text": [
            "                   all         24         38       0.79      0.859      0.902      0.699\n"
          ]
        },
        {
          "output_type": "stream",
          "name": "stderr",
          "text": [
            "\n"
          ]
        },
        {
          "output_type": "stream",
          "name": "stdout",
          "text": [
            "\n",
            "      Epoch    GPU_mem   box_loss   cls_loss   dfl_loss  Instances       Size\n"
          ]
        },
        {
          "output_type": "stream",
          "name": "stderr",
          "text": [
            "     12/100      11.2G     0.5713     0.4119      1.121         16        640: 100%|██████████| 16/16 [00:11<00:00,  1.35it/s]\n",
            "                 Class     Images  Instances      Box(P          R      mAP50  mAP50-95): 100%|██████████| 1/1 [00:00<00:00,  2.17it/s]"
          ]
        },
        {
          "output_type": "stream",
          "name": "stdout",
          "text": [
            "                   all         24         38      0.792      0.774      0.821       0.72\n"
          ]
        },
        {
          "output_type": "stream",
          "name": "stderr",
          "text": [
            "\n"
          ]
        },
        {
          "output_type": "stream",
          "name": "stdout",
          "text": [
            "\n",
            "      Epoch    GPU_mem   box_loss   cls_loss   dfl_loss  Instances       Size\n"
          ]
        },
        {
          "output_type": "stream",
          "name": "stderr",
          "text": [
            "     13/100      11.2G     0.5869     0.4503      1.118         15        640: 100%|██████████| 16/16 [00:11<00:00,  1.36it/s]\n",
            "                 Class     Images  Instances      Box(P          R      mAP50  mAP50-95): 100%|██████████| 1/1 [00:00<00:00,  2.12it/s]"
          ]
        },
        {
          "output_type": "stream",
          "name": "stdout",
          "text": [
            "                   all         24         38      0.888      0.789      0.889      0.789\n"
          ]
        },
        {
          "output_type": "stream",
          "name": "stderr",
          "text": [
            "\n"
          ]
        },
        {
          "output_type": "stream",
          "name": "stdout",
          "text": [
            "\n",
            "      Epoch    GPU_mem   box_loss   cls_loss   dfl_loss  Instances       Size\n"
          ]
        },
        {
          "output_type": "stream",
          "name": "stderr",
          "text": [
            "     14/100      11.1G     0.5576     0.4201      1.093         13        640: 100%|██████████| 16/16 [00:11<00:00,  1.35it/s]\n",
            "                 Class     Images  Instances      Box(P          R      mAP50  mAP50-95): 100%|██████████| 1/1 [00:00<00:00,  2.19it/s]"
          ]
        },
        {
          "output_type": "stream",
          "name": "stdout",
          "text": [
            "                   all         24         38      0.786      0.851      0.905      0.806\n"
          ]
        },
        {
          "output_type": "stream",
          "name": "stderr",
          "text": [
            "\n"
          ]
        },
        {
          "output_type": "stream",
          "name": "stdout",
          "text": [
            "\n",
            "      Epoch    GPU_mem   box_loss   cls_loss   dfl_loss  Instances       Size\n"
          ]
        },
        {
          "output_type": "stream",
          "name": "stderr",
          "text": [
            "     15/100      11.1G     0.5154     0.4229      1.088         18        640: 100%|██████████| 16/16 [00:11<00:00,  1.36it/s]\n",
            "                 Class     Images  Instances      Box(P          R      mAP50  mAP50-95): 100%|██████████| 1/1 [00:00<00:00,  2.04it/s]"
          ]
        },
        {
          "output_type": "stream",
          "name": "stdout",
          "text": [
            "                   all         24         38      0.625      0.722      0.783      0.673\n"
          ]
        },
        {
          "output_type": "stream",
          "name": "stderr",
          "text": [
            "\n"
          ]
        },
        {
          "output_type": "stream",
          "name": "stdout",
          "text": [
            "\n",
            "      Epoch    GPU_mem   box_loss   cls_loss   dfl_loss  Instances       Size\n"
          ]
        },
        {
          "output_type": "stream",
          "name": "stderr",
          "text": [
            "     16/100      11.1G     0.5143     0.3943      1.055         14        640: 100%|██████████| 16/16 [00:11<00:00,  1.34it/s]\n",
            "                 Class     Images  Instances      Box(P          R      mAP50  mAP50-95): 100%|██████████| 1/1 [00:00<00:00,  1.72it/s]"
          ]
        },
        {
          "output_type": "stream",
          "name": "stdout",
          "text": [
            "                   all         24         38      0.767      0.747      0.854      0.762\n"
          ]
        },
        {
          "output_type": "stream",
          "name": "stderr",
          "text": [
            "\n"
          ]
        },
        {
          "output_type": "stream",
          "name": "stdout",
          "text": [
            "\n",
            "      Epoch    GPU_mem   box_loss   cls_loss   dfl_loss  Instances       Size\n"
          ]
        },
        {
          "output_type": "stream",
          "name": "stderr",
          "text": [
            "     17/100      11.2G     0.5547     0.3918      1.099         23        640: 100%|██████████| 16/16 [00:11<00:00,  1.35it/s]\n",
            "                 Class     Images  Instances      Box(P          R      mAP50  mAP50-95): 100%|██████████| 1/1 [00:00<00:00,  2.14it/s]"
          ]
        },
        {
          "output_type": "stream",
          "name": "stdout",
          "text": [
            "                   all         24         38       0.77      0.765      0.818      0.691\n"
          ]
        },
        {
          "output_type": "stream",
          "name": "stderr",
          "text": [
            "\n"
          ]
        },
        {
          "output_type": "stream",
          "name": "stdout",
          "text": [
            "\n",
            "      Epoch    GPU_mem   box_loss   cls_loss   dfl_loss  Instances       Size\n"
          ]
        },
        {
          "output_type": "stream",
          "name": "stderr",
          "text": [
            "     18/100      11.2G      0.544     0.3661      1.098         15        640: 100%|██████████| 16/16 [00:11<00:00,  1.35it/s]\n",
            "                 Class     Images  Instances      Box(P          R      mAP50  mAP50-95): 100%|██████████| 1/1 [00:00<00:00,  2.16it/s]"
          ]
        },
        {
          "output_type": "stream",
          "name": "stdout",
          "text": [
            "                   all         24         38      0.826      0.823      0.905      0.784\n"
          ]
        },
        {
          "output_type": "stream",
          "name": "stderr",
          "text": [
            "\n"
          ]
        },
        {
          "output_type": "stream",
          "name": "stdout",
          "text": [
            "\n",
            "      Epoch    GPU_mem   box_loss   cls_loss   dfl_loss  Instances       Size\n"
          ]
        },
        {
          "output_type": "stream",
          "name": "stderr",
          "text": [
            "     19/100      11.1G      0.566     0.3933       1.13         15        640: 100%|██████████| 16/16 [00:11<00:00,  1.35it/s]\n",
            "                 Class     Images  Instances      Box(P          R      mAP50  mAP50-95): 100%|██████████| 1/1 [00:00<00:00,  2.17it/s]"
          ]
        },
        {
          "output_type": "stream",
          "name": "stdout",
          "text": [
            "                   all         24         38      0.838      0.878      0.868      0.727\n"
          ]
        },
        {
          "output_type": "stream",
          "name": "stderr",
          "text": [
            "\n"
          ]
        },
        {
          "output_type": "stream",
          "name": "stdout",
          "text": [
            "\n",
            "      Epoch    GPU_mem   box_loss   cls_loss   dfl_loss  Instances       Size\n"
          ]
        },
        {
          "output_type": "stream",
          "name": "stderr",
          "text": [
            "     20/100      11.2G     0.5498     0.3878      1.105         17        640: 100%|██████████| 16/16 [00:11<00:00,  1.35it/s]\n",
            "                 Class     Images  Instances      Box(P          R      mAP50  mAP50-95): 100%|██████████| 1/1 [00:00<00:00,  2.16it/s]"
          ]
        },
        {
          "output_type": "stream",
          "name": "stdout",
          "text": [
            "                   all         24         38      0.832       0.82      0.888       0.78\n"
          ]
        },
        {
          "output_type": "stream",
          "name": "stderr",
          "text": [
            "\n"
          ]
        },
        {
          "output_type": "stream",
          "name": "stdout",
          "text": [
            "\n",
            "      Epoch    GPU_mem   box_loss   cls_loss   dfl_loss  Instances       Size\n"
          ]
        },
        {
          "output_type": "stream",
          "name": "stderr",
          "text": [
            "     21/100      11.2G     0.5692     0.3996       1.12         14        640: 100%|██████████| 16/16 [00:11<00:00,  1.35it/s]\n",
            "                 Class     Images  Instances      Box(P          R      mAP50  mAP50-95): 100%|██████████| 1/1 [00:00<00:00,  2.14it/s]"
          ]
        },
        {
          "output_type": "stream",
          "name": "stdout",
          "text": [
            "                   all         24         38      0.804       0.84      0.919       0.79\n"
          ]
        },
        {
          "output_type": "stream",
          "name": "stderr",
          "text": [
            "\n"
          ]
        },
        {
          "output_type": "stream",
          "name": "stdout",
          "text": [
            "\n",
            "      Epoch    GPU_mem   box_loss   cls_loss   dfl_loss  Instances       Size\n"
          ]
        },
        {
          "output_type": "stream",
          "name": "stderr",
          "text": [
            "     22/100      11.1G     0.5229     0.3886      1.076         18        640: 100%|██████████| 16/16 [00:11<00:00,  1.35it/s]\n",
            "                 Class     Images  Instances      Box(P          R      mAP50  mAP50-95): 100%|██████████| 1/1 [00:00<00:00,  2.14it/s]"
          ]
        },
        {
          "output_type": "stream",
          "name": "stdout",
          "text": [
            "                   all         24         38      0.844      0.602      0.678      0.582\n"
          ]
        },
        {
          "output_type": "stream",
          "name": "stderr",
          "text": [
            "\n"
          ]
        },
        {
          "output_type": "stream",
          "name": "stdout",
          "text": [
            "\n",
            "      Epoch    GPU_mem   box_loss   cls_loss   dfl_loss  Instances       Size\n"
          ]
        },
        {
          "output_type": "stream",
          "name": "stderr",
          "text": [
            "     23/100      11.2G     0.5261     0.4096      1.063         14        640: 100%|██████████| 16/16 [00:11<00:00,  1.35it/s]\n",
            "                 Class     Images  Instances      Box(P          R      mAP50  mAP50-95): 100%|██████████| 1/1 [00:00<00:00,  2.14it/s]"
          ]
        },
        {
          "output_type": "stream",
          "name": "stdout",
          "text": [
            "                   all         24         38      0.847      0.763      0.827      0.744\n"
          ]
        },
        {
          "output_type": "stream",
          "name": "stderr",
          "text": [
            "\n"
          ]
        },
        {
          "output_type": "stream",
          "name": "stdout",
          "text": [
            "\n",
            "      Epoch    GPU_mem   box_loss   cls_loss   dfl_loss  Instances       Size\n"
          ]
        },
        {
          "output_type": "stream",
          "name": "stderr",
          "text": [
            "     24/100      11.1G     0.5091     0.4008      1.064         13        640: 100%|██████████| 16/16 [00:11<00:00,  1.35it/s]\n",
            "                 Class     Images  Instances      Box(P          R      mAP50  mAP50-95): 100%|██████████| 1/1 [00:00<00:00,  2.16it/s]"
          ]
        },
        {
          "output_type": "stream",
          "name": "stdout",
          "text": [
            "                   all         24         38      0.881      0.777      0.891      0.753\n"
          ]
        },
        {
          "output_type": "stream",
          "name": "stderr",
          "text": [
            "\n"
          ]
        },
        {
          "output_type": "stream",
          "name": "stdout",
          "text": [
            "\n",
            "      Epoch    GPU_mem   box_loss   cls_loss   dfl_loss  Instances       Size\n"
          ]
        },
        {
          "output_type": "stream",
          "name": "stderr",
          "text": [
            "     25/100      11.1G     0.5521     0.3679      1.108         16        640: 100%|██████████| 16/16 [00:11<00:00,  1.35it/s]\n",
            "                 Class     Images  Instances      Box(P          R      mAP50  mAP50-95): 100%|██████████| 1/1 [00:00<00:00,  2.15it/s]"
          ]
        },
        {
          "output_type": "stream",
          "name": "stdout",
          "text": [
            "                   all         24         38      0.847      0.758      0.914      0.824\n"
          ]
        },
        {
          "output_type": "stream",
          "name": "stderr",
          "text": [
            "\n"
          ]
        },
        {
          "output_type": "stream",
          "name": "stdout",
          "text": [
            "\n",
            "      Epoch    GPU_mem   box_loss   cls_loss   dfl_loss  Instances       Size\n"
          ]
        },
        {
          "output_type": "stream",
          "name": "stderr",
          "text": [
            "     26/100      11.1G     0.5228      0.347      1.069         12        640: 100%|██████████| 16/16 [00:11<00:00,  1.35it/s]\n",
            "                 Class     Images  Instances      Box(P          R      mAP50  mAP50-95): 100%|██████████| 1/1 [00:00<00:00,  1.73it/s]"
          ]
        },
        {
          "output_type": "stream",
          "name": "stdout",
          "text": [
            "                   all         24         38      0.616       0.78      0.746      0.654\n"
          ]
        },
        {
          "output_type": "stream",
          "name": "stderr",
          "text": [
            "\n"
          ]
        },
        {
          "output_type": "stream",
          "name": "stdout",
          "text": [
            "\n",
            "      Epoch    GPU_mem   box_loss   cls_loss   dfl_loss  Instances       Size\n"
          ]
        },
        {
          "output_type": "stream",
          "name": "stderr",
          "text": [
            "     27/100      11.2G     0.5056     0.3302      1.051         16        640: 100%|██████████| 16/16 [00:11<00:00,  1.35it/s]\n",
            "                 Class     Images  Instances      Box(P          R      mAP50  mAP50-95): 100%|██████████| 1/1 [00:00<00:00,  2.07it/s]"
          ]
        },
        {
          "output_type": "stream",
          "name": "stdout",
          "text": [
            "                   all         24         38      0.829      0.643      0.863      0.765\n"
          ]
        },
        {
          "output_type": "stream",
          "name": "stderr",
          "text": [
            "\n"
          ]
        },
        {
          "output_type": "stream",
          "name": "stdout",
          "text": [
            "\n",
            "      Epoch    GPU_mem   box_loss   cls_loss   dfl_loss  Instances       Size\n"
          ]
        },
        {
          "output_type": "stream",
          "name": "stderr",
          "text": [
            "     28/100      11.1G      0.522     0.3481      1.068         15        640: 100%|██████████| 16/16 [00:11<00:00,  1.36it/s]\n",
            "                 Class     Images  Instances      Box(P          R      mAP50  mAP50-95): 100%|██████████| 1/1 [00:00<00:00,  2.13it/s]"
          ]
        },
        {
          "output_type": "stream",
          "name": "stdout",
          "text": [
            "                   all         24         38      0.901      0.843      0.951      0.848\n"
          ]
        },
        {
          "output_type": "stream",
          "name": "stderr",
          "text": [
            "\n"
          ]
        },
        {
          "output_type": "stream",
          "name": "stdout",
          "text": [
            "\n",
            "      Epoch    GPU_mem   box_loss   cls_loss   dfl_loss  Instances       Size\n"
          ]
        },
        {
          "output_type": "stream",
          "name": "stderr",
          "text": [
            "     29/100      11.1G     0.5377     0.3488      1.092         24        640: 100%|██████████| 16/16 [00:11<00:00,  1.35it/s]\n",
            "                 Class     Images  Instances      Box(P          R      mAP50  mAP50-95): 100%|██████████| 1/1 [00:00<00:00,  2.16it/s]"
          ]
        },
        {
          "output_type": "stream",
          "name": "stdout",
          "text": [
            "                   all         24         38      0.898      0.964      0.947      0.867\n"
          ]
        },
        {
          "output_type": "stream",
          "name": "stderr",
          "text": [
            "\n"
          ]
        },
        {
          "output_type": "stream",
          "name": "stdout",
          "text": [
            "\n",
            "      Epoch    GPU_mem   box_loss   cls_loss   dfl_loss  Instances       Size\n"
          ]
        },
        {
          "output_type": "stream",
          "name": "stderr",
          "text": [
            "     30/100      11.1G     0.5446     0.3561      1.096         11        640: 100%|██████████| 16/16 [00:11<00:00,  1.35it/s]\n",
            "                 Class     Images  Instances      Box(P          R      mAP50  mAP50-95): 100%|██████████| 1/1 [00:00<00:00,  2.18it/s]"
          ]
        },
        {
          "output_type": "stream",
          "name": "stdout",
          "text": [
            "                   all         24         38       0.82      0.906      0.963      0.839\n"
          ]
        },
        {
          "output_type": "stream",
          "name": "stderr",
          "text": [
            "\n"
          ]
        },
        {
          "output_type": "stream",
          "name": "stdout",
          "text": [
            "\n",
            "      Epoch    GPU_mem   box_loss   cls_loss   dfl_loss  Instances       Size\n"
          ]
        },
        {
          "output_type": "stream",
          "name": "stderr",
          "text": [
            "     31/100      11.1G     0.5178     0.3438      1.064         18        640: 100%|██████████| 16/16 [00:11<00:00,  1.35it/s]\n",
            "                 Class     Images  Instances      Box(P          R      mAP50  mAP50-95): 100%|██████████| 1/1 [00:00<00:00,  2.15it/s]"
          ]
        },
        {
          "output_type": "stream",
          "name": "stdout",
          "text": [
            "                   all         24         38      0.875      0.751      0.904      0.789\n"
          ]
        },
        {
          "output_type": "stream",
          "name": "stderr",
          "text": [
            "\n"
          ]
        },
        {
          "output_type": "stream",
          "name": "stdout",
          "text": [
            "\n",
            "      Epoch    GPU_mem   box_loss   cls_loss   dfl_loss  Instances       Size\n"
          ]
        },
        {
          "output_type": "stream",
          "name": "stderr",
          "text": [
            "     32/100      11.1G     0.4857     0.3639      1.043         16        640: 100%|██████████| 16/16 [00:11<00:00,  1.35it/s]\n",
            "                 Class     Images  Instances      Box(P          R      mAP50  mAP50-95): 100%|██████████| 1/1 [00:00<00:00,  2.17it/s]"
          ]
        },
        {
          "output_type": "stream",
          "name": "stdout",
          "text": [
            "                   all         24         38       0.93      0.839      0.975      0.857\n"
          ]
        },
        {
          "output_type": "stream",
          "name": "stderr",
          "text": [
            "\n"
          ]
        },
        {
          "output_type": "stream",
          "name": "stdout",
          "text": [
            "\n",
            "      Epoch    GPU_mem   box_loss   cls_loss   dfl_loss  Instances       Size\n"
          ]
        },
        {
          "output_type": "stream",
          "name": "stderr",
          "text": [
            "     33/100      11.1G     0.5222     0.3199      1.057         14        640: 100%|██████████| 16/16 [00:11<00:00,  1.35it/s]\n",
            "                 Class     Images  Instances      Box(P          R      mAP50  mAP50-95): 100%|██████████| 1/1 [00:00<00:00,  2.15it/s]"
          ]
        },
        {
          "output_type": "stream",
          "name": "stdout",
          "text": [
            "                   all         24         38      0.821      0.874      0.919      0.833\n"
          ]
        },
        {
          "output_type": "stream",
          "name": "stderr",
          "text": [
            "\n"
          ]
        },
        {
          "output_type": "stream",
          "name": "stdout",
          "text": [
            "\n",
            "      Epoch    GPU_mem   box_loss   cls_loss   dfl_loss  Instances       Size\n"
          ]
        },
        {
          "output_type": "stream",
          "name": "stderr",
          "text": [
            "     34/100      11.1G     0.5334     0.3189      1.046         19        640: 100%|██████████| 16/16 [00:11<00:00,  1.35it/s]\n",
            "                 Class     Images  Instances      Box(P          R      mAP50  mAP50-95): 100%|██████████| 1/1 [00:00<00:00,  2.18it/s]"
          ]
        },
        {
          "output_type": "stream",
          "name": "stdout",
          "text": [
            "                   all         24         38      0.949      0.863      0.918      0.777\n"
          ]
        },
        {
          "output_type": "stream",
          "name": "stderr",
          "text": [
            "\n"
          ]
        },
        {
          "output_type": "stream",
          "name": "stdout",
          "text": [
            "\n",
            "      Epoch    GPU_mem   box_loss   cls_loss   dfl_loss  Instances       Size\n"
          ]
        },
        {
          "output_type": "stream",
          "name": "stderr",
          "text": [
            "     35/100      11.1G     0.4756     0.3181      1.064         17        640: 100%|██████████| 16/16 [00:11<00:00,  1.36it/s]\n",
            "                 Class     Images  Instances      Box(P          R      mAP50  mAP50-95): 100%|██████████| 1/1 [00:00<00:00,  2.16it/s]"
          ]
        },
        {
          "output_type": "stream",
          "name": "stdout",
          "text": [
            "                   all         24         38      0.908      0.727      0.802       0.71\n"
          ]
        },
        {
          "output_type": "stream",
          "name": "stderr",
          "text": [
            "\n"
          ]
        },
        {
          "output_type": "stream",
          "name": "stdout",
          "text": [
            "\n",
            "      Epoch    GPU_mem   box_loss   cls_loss   dfl_loss  Instances       Size\n"
          ]
        },
        {
          "output_type": "stream",
          "name": "stderr",
          "text": [
            "     36/100      11.1G     0.4985     0.3383      1.067         18        640: 100%|██████████| 16/16 [00:11<00:00,  1.36it/s]\n",
            "                 Class     Images  Instances      Box(P          R      mAP50  mAP50-95): 100%|██████████| 1/1 [00:00<00:00,  2.17it/s]"
          ]
        },
        {
          "output_type": "stream",
          "name": "stdout",
          "text": [
            "                   all         24         38      0.847      0.657      0.735      0.641\n"
          ]
        },
        {
          "output_type": "stream",
          "name": "stderr",
          "text": [
            "\n"
          ]
        },
        {
          "output_type": "stream",
          "name": "stdout",
          "text": [
            "\n",
            "      Epoch    GPU_mem   box_loss   cls_loss   dfl_loss  Instances       Size\n"
          ]
        },
        {
          "output_type": "stream",
          "name": "stderr",
          "text": [
            "     37/100      11.2G     0.4796     0.3326      1.061         13        640: 100%|██████████| 16/16 [00:11<00:00,  1.35it/s]\n",
            "                 Class     Images  Instances      Box(P          R      mAP50  mAP50-95): 100%|██████████| 1/1 [00:00<00:00,  1.77it/s]"
          ]
        },
        {
          "output_type": "stream",
          "name": "stdout",
          "text": [
            "                   all         24         38      0.894      0.758      0.845      0.763\n"
          ]
        },
        {
          "output_type": "stream",
          "name": "stderr",
          "text": [
            "\n"
          ]
        },
        {
          "output_type": "stream",
          "name": "stdout",
          "text": [
            "\n",
            "      Epoch    GPU_mem   box_loss   cls_loss   dfl_loss  Instances       Size\n"
          ]
        },
        {
          "output_type": "stream",
          "name": "stderr",
          "text": [
            "     38/100      11.1G     0.4802     0.3188       1.05         11        640: 100%|██████████| 16/16 [00:11<00:00,  1.36it/s]\n",
            "                 Class     Images  Instances      Box(P          R      mAP50  mAP50-95): 100%|██████████| 1/1 [00:00<00:00,  1.92it/s]"
          ]
        },
        {
          "output_type": "stream",
          "name": "stdout",
          "text": [
            "                   all         24         38      0.847      0.959      0.958      0.878\n"
          ]
        },
        {
          "output_type": "stream",
          "name": "stderr",
          "text": [
            "\n"
          ]
        },
        {
          "output_type": "stream",
          "name": "stdout",
          "text": [
            "\n",
            "      Epoch    GPU_mem   box_loss   cls_loss   dfl_loss  Instances       Size\n"
          ]
        },
        {
          "output_type": "stream",
          "name": "stderr",
          "text": [
            "     39/100      11.1G     0.4507     0.3244      1.033         12        640: 100%|██████████| 16/16 [00:11<00:00,  1.36it/s]\n",
            "                 Class     Images  Instances      Box(P          R      mAP50  mAP50-95): 100%|██████████| 1/1 [00:00<00:00,  2.14it/s]"
          ]
        },
        {
          "output_type": "stream",
          "name": "stdout",
          "text": [
            "                   all         24         38      0.878      0.899      0.965      0.862\n"
          ]
        },
        {
          "output_type": "stream",
          "name": "stderr",
          "text": [
            "\n"
          ]
        },
        {
          "output_type": "stream",
          "name": "stdout",
          "text": [
            "\n",
            "      Epoch    GPU_mem   box_loss   cls_loss   dfl_loss  Instances       Size\n"
          ]
        },
        {
          "output_type": "stream",
          "name": "stderr",
          "text": [
            "     40/100      11.1G     0.4435     0.2997      1.009         16        640: 100%|██████████| 16/16 [00:11<00:00,  1.35it/s]\n",
            "                 Class     Images  Instances      Box(P          R      mAP50  mAP50-95): 100%|██████████| 1/1 [00:00<00:00,  2.19it/s]"
          ]
        },
        {
          "output_type": "stream",
          "name": "stdout",
          "text": [
            "                   all         24         38      0.803      0.876      0.894      0.793\n"
          ]
        },
        {
          "output_type": "stream",
          "name": "stderr",
          "text": [
            "\n"
          ]
        },
        {
          "output_type": "stream",
          "name": "stdout",
          "text": [
            "\n",
            "      Epoch    GPU_mem   box_loss   cls_loss   dfl_loss  Instances       Size\n"
          ]
        },
        {
          "output_type": "stream",
          "name": "stderr",
          "text": [
            "     41/100      11.1G     0.4519     0.3165      1.014         24        640: 100%|██████████| 16/16 [00:11<00:00,  1.35it/s]\n",
            "                 Class     Images  Instances      Box(P          R      mAP50  mAP50-95): 100%|██████████| 1/1 [00:00<00:00,  2.16it/s]"
          ]
        },
        {
          "output_type": "stream",
          "name": "stdout",
          "text": [
            "                   all         24         38      0.768       0.85      0.887      0.777\n"
          ]
        },
        {
          "output_type": "stream",
          "name": "stderr",
          "text": [
            "\n"
          ]
        },
        {
          "output_type": "stream",
          "name": "stdout",
          "text": [
            "\n",
            "      Epoch    GPU_mem   box_loss   cls_loss   dfl_loss  Instances       Size\n"
          ]
        },
        {
          "output_type": "stream",
          "name": "stderr",
          "text": [
            "     42/100      11.1G     0.4412     0.3002     0.9964         16        640: 100%|██████████| 16/16 [00:11<00:00,  1.35it/s]\n",
            "                 Class     Images  Instances      Box(P          R      mAP50  mAP50-95): 100%|██████████| 1/1 [00:00<00:00,  2.14it/s]"
          ]
        },
        {
          "output_type": "stream",
          "name": "stdout",
          "text": [
            "                   all         24         38      0.864      0.802      0.873      0.779\n"
          ]
        },
        {
          "output_type": "stream",
          "name": "stderr",
          "text": [
            "\n"
          ]
        },
        {
          "output_type": "stream",
          "name": "stdout",
          "text": [
            "\n",
            "      Epoch    GPU_mem   box_loss   cls_loss   dfl_loss  Instances       Size\n"
          ]
        },
        {
          "output_type": "stream",
          "name": "stderr",
          "text": [
            "     43/100      11.2G     0.4408      0.295      1.025         29        640: 100%|██████████| 16/16 [00:11<00:00,  1.35it/s]\n",
            "                 Class     Images  Instances      Box(P          R      mAP50  mAP50-95): 100%|██████████| 1/1 [00:00<00:00,  2.19it/s]"
          ]
        },
        {
          "output_type": "stream",
          "name": "stdout",
          "text": [
            "                   all         24         38      0.894      0.806      0.906      0.798\n"
          ]
        },
        {
          "output_type": "stream",
          "name": "stderr",
          "text": [
            "\n"
          ]
        },
        {
          "output_type": "stream",
          "name": "stdout",
          "text": [
            "\n",
            "      Epoch    GPU_mem   box_loss   cls_loss   dfl_loss  Instances       Size\n"
          ]
        },
        {
          "output_type": "stream",
          "name": "stderr",
          "text": [
            "     44/100      11.1G     0.4233     0.2746      1.004         12        640: 100%|██████████| 16/16 [00:11<00:00,  1.35it/s]\n",
            "                 Class     Images  Instances      Box(P          R      mAP50  mAP50-95): 100%|██████████| 1/1 [00:00<00:00,  2.15it/s]"
          ]
        },
        {
          "output_type": "stream",
          "name": "stdout",
          "text": [
            "                   all         24         38       0.88      0.868      0.922      0.824\n"
          ]
        },
        {
          "output_type": "stream",
          "name": "stderr",
          "text": [
            "\n"
          ]
        },
        {
          "output_type": "stream",
          "name": "stdout",
          "text": [
            "\n",
            "      Epoch    GPU_mem   box_loss   cls_loss   dfl_loss  Instances       Size\n"
          ]
        },
        {
          "output_type": "stream",
          "name": "stderr",
          "text": [
            "     45/100      11.2G     0.4383      0.285      0.998         13        640: 100%|██████████| 16/16 [00:11<00:00,  1.36it/s]\n",
            "                 Class     Images  Instances      Box(P          R      mAP50  mAP50-95): 100%|██████████| 1/1 [00:00<00:00,  2.18it/s]"
          ]
        },
        {
          "output_type": "stream",
          "name": "stdout",
          "text": [
            "                   all         24         38       0.74      0.927      0.923      0.824\n"
          ]
        },
        {
          "output_type": "stream",
          "name": "stderr",
          "text": [
            "\n"
          ]
        },
        {
          "output_type": "stream",
          "name": "stdout",
          "text": [
            "\n",
            "      Epoch    GPU_mem   box_loss   cls_loss   dfl_loss  Instances       Size\n"
          ]
        },
        {
          "output_type": "stream",
          "name": "stderr",
          "text": [
            "     46/100      11.2G       0.45     0.2707      1.015         14        640: 100%|██████████| 16/16 [00:11<00:00,  1.35it/s]\n",
            "                 Class     Images  Instances      Box(P          R      mAP50  mAP50-95): 100%|██████████| 1/1 [00:00<00:00,  2.16it/s]"
          ]
        },
        {
          "output_type": "stream",
          "name": "stdout",
          "text": [
            "                   all         24         38       0.83      0.793      0.921      0.836\n"
          ]
        },
        {
          "output_type": "stream",
          "name": "stderr",
          "text": [
            "\n"
          ]
        },
        {
          "output_type": "stream",
          "name": "stdout",
          "text": [
            "\n",
            "      Epoch    GPU_mem   box_loss   cls_loss   dfl_loss  Instances       Size\n"
          ]
        },
        {
          "output_type": "stream",
          "name": "stderr",
          "text": [
            "     47/100      11.2G     0.4546     0.2915      1.026         21        640: 100%|██████████| 16/16 [00:11<00:00,  1.35it/s]\n",
            "                 Class     Images  Instances      Box(P          R      mAP50  mAP50-95): 100%|██████████| 1/1 [00:00<00:00,  2.17it/s]"
          ]
        },
        {
          "output_type": "stream",
          "name": "stdout",
          "text": [
            "                   all         24         38      0.793      0.866      0.935      0.842\n"
          ]
        },
        {
          "output_type": "stream",
          "name": "stderr",
          "text": [
            "\n"
          ]
        },
        {
          "output_type": "stream",
          "name": "stdout",
          "text": [
            "\n",
            "      Epoch    GPU_mem   box_loss   cls_loss   dfl_loss  Instances       Size\n"
          ]
        },
        {
          "output_type": "stream",
          "name": "stderr",
          "text": [
            "     48/100      11.2G     0.4371     0.2904      1.029         13        640: 100%|██████████| 16/16 [00:11<00:00,  1.35it/s]\n",
            "                 Class     Images  Instances      Box(P          R      mAP50  mAP50-95): 100%|██████████| 1/1 [00:00<00:00,  1.93it/s]"
          ]
        },
        {
          "output_type": "stream",
          "name": "stdout",
          "text": [
            "                   all         24         38      0.677      0.887      0.846      0.769\n"
          ]
        },
        {
          "output_type": "stream",
          "name": "stderr",
          "text": [
            "\n"
          ]
        },
        {
          "output_type": "stream",
          "name": "stdout",
          "text": [
            "\n",
            "      Epoch    GPU_mem   box_loss   cls_loss   dfl_loss  Instances       Size\n"
          ]
        },
        {
          "output_type": "stream",
          "name": "stderr",
          "text": [
            "     49/100      11.1G      0.412     0.2643     0.9962         16        640: 100%|██████████| 16/16 [00:11<00:00,  1.34it/s]\n",
            "                 Class     Images  Instances      Box(P          R      mAP50  mAP50-95): 100%|██████████| 1/1 [00:00<00:00,  2.18it/s]"
          ]
        },
        {
          "output_type": "stream",
          "name": "stdout",
          "text": [
            "                   all         24         38      0.922      0.847      0.927      0.846\n"
          ]
        },
        {
          "output_type": "stream",
          "name": "stderr",
          "text": [
            "\n"
          ]
        },
        {
          "output_type": "stream",
          "name": "stdout",
          "text": [
            "\n",
            "      Epoch    GPU_mem   box_loss   cls_loss   dfl_loss  Instances       Size\n"
          ]
        },
        {
          "output_type": "stream",
          "name": "stderr",
          "text": [
            "     50/100      11.1G     0.4285     0.2915      1.028         17        640: 100%|██████████| 16/16 [00:11<00:00,  1.35it/s]\n",
            "                 Class     Images  Instances      Box(P          R      mAP50  mAP50-95): 100%|██████████| 1/1 [00:00<00:00,  2.18it/s]"
          ]
        },
        {
          "output_type": "stream",
          "name": "stdout",
          "text": [
            "                   all         24         38      0.912      0.896      0.971      0.884\n"
          ]
        },
        {
          "output_type": "stream",
          "name": "stderr",
          "text": [
            "\n"
          ]
        },
        {
          "output_type": "stream",
          "name": "stdout",
          "text": [
            "\n",
            "      Epoch    GPU_mem   box_loss   cls_loss   dfl_loss  Instances       Size\n"
          ]
        },
        {
          "output_type": "stream",
          "name": "stderr",
          "text": [
            "     51/100      11.2G     0.4333     0.2718      1.022         15        640: 100%|██████████| 16/16 [00:11<00:00,  1.35it/s]\n",
            "                 Class     Images  Instances      Box(P          R      mAP50  mAP50-95): 100%|██████████| 1/1 [00:00<00:00,  2.18it/s]"
          ]
        },
        {
          "output_type": "stream",
          "name": "stdout",
          "text": [
            "                   all         24         38      0.913      0.831      0.951      0.853\n"
          ]
        },
        {
          "output_type": "stream",
          "name": "stderr",
          "text": [
            "\n"
          ]
        },
        {
          "output_type": "stream",
          "name": "stdout",
          "text": [
            "\n",
            "      Epoch    GPU_mem   box_loss   cls_loss   dfl_loss  Instances       Size\n"
          ]
        },
        {
          "output_type": "stream",
          "name": "stderr",
          "text": [
            "     52/100      11.1G     0.4386     0.2838     0.9994         21        640: 100%|██████████| 16/16 [00:11<00:00,  1.35it/s]\n",
            "                 Class     Images  Instances      Box(P          R      mAP50  mAP50-95): 100%|██████████| 1/1 [00:00<00:00,  2.14it/s]"
          ]
        },
        {
          "output_type": "stream",
          "name": "stdout",
          "text": [
            "                   all         24         38      0.859      0.875      0.933      0.853\n"
          ]
        },
        {
          "output_type": "stream",
          "name": "stderr",
          "text": [
            "\n"
          ]
        },
        {
          "output_type": "stream",
          "name": "stdout",
          "text": [
            "\n",
            "      Epoch    GPU_mem   box_loss   cls_loss   dfl_loss  Instances       Size\n"
          ]
        },
        {
          "output_type": "stream",
          "name": "stderr",
          "text": [
            "     53/100      11.2G     0.4156      0.257     0.9906         11        640: 100%|██████████| 16/16 [00:11<00:00,  1.35it/s]\n",
            "                 Class     Images  Instances      Box(P          R      mAP50  mAP50-95): 100%|██████████| 1/1 [00:00<00:00,  2.16it/s]"
          ]
        },
        {
          "output_type": "stream",
          "name": "stdout",
          "text": [
            "                   all         24         38      0.944      0.862       0.95      0.847\n"
          ]
        },
        {
          "output_type": "stream",
          "name": "stderr",
          "text": [
            "\n"
          ]
        },
        {
          "output_type": "stream",
          "name": "stdout",
          "text": [
            "\n",
            "      Epoch    GPU_mem   box_loss   cls_loss   dfl_loss  Instances       Size\n"
          ]
        },
        {
          "output_type": "stream",
          "name": "stderr",
          "text": [
            "     54/100      11.2G     0.4037     0.2549     0.9765         14        640: 100%|██████████| 16/16 [00:11<00:00,  1.36it/s]\n",
            "                 Class     Images  Instances      Box(P          R      mAP50  mAP50-95): 100%|██████████| 1/1 [00:00<00:00,  2.13it/s]"
          ]
        },
        {
          "output_type": "stream",
          "name": "stdout",
          "text": [
            "                   all         24         38      0.921      0.837      0.915      0.836\n"
          ]
        },
        {
          "output_type": "stream",
          "name": "stderr",
          "text": [
            "\n"
          ]
        },
        {
          "output_type": "stream",
          "name": "stdout",
          "text": [
            "\n",
            "      Epoch    GPU_mem   box_loss   cls_loss   dfl_loss  Instances       Size\n"
          ]
        },
        {
          "output_type": "stream",
          "name": "stderr",
          "text": [
            "     55/100      11.1G     0.4354     0.2507      1.021         22        640: 100%|██████████| 16/16 [00:11<00:00,  1.35it/s]\n",
            "                 Class     Images  Instances      Box(P          R      mAP50  mAP50-95): 100%|██████████| 1/1 [00:00<00:00,  2.15it/s]"
          ]
        },
        {
          "output_type": "stream",
          "name": "stdout",
          "text": [
            "                   all         24         38       0.87      0.808      0.885      0.815\n"
          ]
        },
        {
          "output_type": "stream",
          "name": "stderr",
          "text": [
            "\n"
          ]
        },
        {
          "output_type": "stream",
          "name": "stdout",
          "text": [
            "\n",
            "      Epoch    GPU_mem   box_loss   cls_loss   dfl_loss  Instances       Size\n"
          ]
        },
        {
          "output_type": "stream",
          "name": "stderr",
          "text": [
            "     56/100      11.1G     0.4252     0.2608      1.015         12        640: 100%|██████████| 16/16 [00:11<00:00,  1.36it/s]\n",
            "                 Class     Images  Instances      Box(P          R      mAP50  mAP50-95): 100%|██████████| 1/1 [00:00<00:00,  2.17it/s]"
          ]
        },
        {
          "output_type": "stream",
          "name": "stdout",
          "text": [
            "                   all         24         38      0.856       0.75      0.865      0.777\n"
          ]
        },
        {
          "output_type": "stream",
          "name": "stderr",
          "text": [
            "\n"
          ]
        },
        {
          "output_type": "stream",
          "name": "stdout",
          "text": [
            "\n",
            "      Epoch    GPU_mem   box_loss   cls_loss   dfl_loss  Instances       Size\n"
          ]
        },
        {
          "output_type": "stream",
          "name": "stderr",
          "text": [
            "     57/100      11.1G     0.3806     0.2443     0.9795         14        640: 100%|██████████| 16/16 [00:11<00:00,  1.36it/s]\n",
            "                 Class     Images  Instances      Box(P          R      mAP50  mAP50-95): 100%|██████████| 1/1 [00:00<00:00,  2.16it/s]"
          ]
        },
        {
          "output_type": "stream",
          "name": "stdout",
          "text": [
            "                   all         24         38      0.922      0.774       0.87      0.798\n"
          ]
        },
        {
          "output_type": "stream",
          "name": "stderr",
          "text": [
            "\n"
          ]
        },
        {
          "output_type": "stream",
          "name": "stdout",
          "text": [
            "\n",
            "      Epoch    GPU_mem   box_loss   cls_loss   dfl_loss  Instances       Size\n"
          ]
        },
        {
          "output_type": "stream",
          "name": "stderr",
          "text": [
            "     58/100      11.1G     0.3869     0.2509     0.9637         13        640: 100%|██████████| 16/16 [00:11<00:00,  1.35it/s]\n",
            "                 Class     Images  Instances      Box(P          R      mAP50  mAP50-95): 100%|██████████| 1/1 [00:00<00:00,  1.85it/s]"
          ]
        },
        {
          "output_type": "stream",
          "name": "stdout",
          "text": [
            "                   all         24         38      0.874      0.862      0.897      0.822\n"
          ]
        },
        {
          "output_type": "stream",
          "name": "stderr",
          "text": [
            "\n"
          ]
        },
        {
          "output_type": "stream",
          "name": "stdout",
          "text": [
            "\n",
            "      Epoch    GPU_mem   box_loss   cls_loss   dfl_loss  Instances       Size\n"
          ]
        },
        {
          "output_type": "stream",
          "name": "stderr",
          "text": [
            "     59/100      11.1G     0.3842     0.2415     0.9799         15        640: 100%|██████████| 16/16 [00:11<00:00,  1.35it/s]\n",
            "                 Class     Images  Instances      Box(P          R      mAP50  mAP50-95): 100%|██████████| 1/1 [00:00<00:00,  2.18it/s]"
          ]
        },
        {
          "output_type": "stream",
          "name": "stdout",
          "text": [
            "                   all         24         38      0.924      0.856      0.949       0.88\n"
          ]
        },
        {
          "output_type": "stream",
          "name": "stderr",
          "text": [
            "\n"
          ]
        },
        {
          "output_type": "stream",
          "name": "stdout",
          "text": [
            "\n",
            "      Epoch    GPU_mem   box_loss   cls_loss   dfl_loss  Instances       Size\n"
          ]
        },
        {
          "output_type": "stream",
          "name": "stderr",
          "text": [
            "     60/100      11.2G      0.392     0.2429     0.9682         13        640: 100%|██████████| 16/16 [00:11<00:00,  1.35it/s]\n",
            "                 Class     Images  Instances      Box(P          R      mAP50  mAP50-95): 100%|██████████| 1/1 [00:00<00:00,  2.15it/s]"
          ]
        },
        {
          "output_type": "stream",
          "name": "stdout",
          "text": [
            "                   all         24         38      0.952      0.882      0.987      0.905\n"
          ]
        },
        {
          "output_type": "stream",
          "name": "stderr",
          "text": [
            "\n"
          ]
        },
        {
          "output_type": "stream",
          "name": "stdout",
          "text": [
            "\n",
            "      Epoch    GPU_mem   box_loss   cls_loss   dfl_loss  Instances       Size\n"
          ]
        },
        {
          "output_type": "stream",
          "name": "stderr",
          "text": [
            "     61/100      11.2G     0.3694     0.2344     0.9672         22        640: 100%|██████████| 16/16 [00:11<00:00,  1.35it/s]\n",
            "                 Class     Images  Instances      Box(P          R      mAP50  mAP50-95): 100%|██████████| 1/1 [00:00<00:00,  2.14it/s]"
          ]
        },
        {
          "output_type": "stream",
          "name": "stdout",
          "text": [
            "                   all         24         38      0.951      0.917      0.984      0.886\n"
          ]
        },
        {
          "output_type": "stream",
          "name": "stderr",
          "text": [
            "\n"
          ]
        },
        {
          "output_type": "stream",
          "name": "stdout",
          "text": [
            "\n",
            "      Epoch    GPU_mem   box_loss   cls_loss   dfl_loss  Instances       Size\n"
          ]
        },
        {
          "output_type": "stream",
          "name": "stderr",
          "text": [
            "     62/100      11.1G     0.4111     0.2653     0.9765         14        640: 100%|██████████| 16/16 [00:11<00:00,  1.34it/s]\n",
            "                 Class     Images  Instances      Box(P          R      mAP50  mAP50-95): 100%|██████████| 1/1 [00:00<00:00,  2.17it/s]"
          ]
        },
        {
          "output_type": "stream",
          "name": "stdout",
          "text": [
            "                   all         24         38      0.944      0.939      0.979      0.903\n"
          ]
        },
        {
          "output_type": "stream",
          "name": "stderr",
          "text": [
            "\n"
          ]
        },
        {
          "output_type": "stream",
          "name": "stdout",
          "text": [
            "\n",
            "      Epoch    GPU_mem   box_loss   cls_loss   dfl_loss  Instances       Size\n"
          ]
        },
        {
          "output_type": "stream",
          "name": "stderr",
          "text": [
            "     63/100      11.1G     0.4132     0.2426     0.9993         26        640: 100%|██████████| 16/16 [00:11<00:00,  1.35it/s]\n",
            "                 Class     Images  Instances      Box(P          R      mAP50  mAP50-95): 100%|██████████| 1/1 [00:00<00:00,  1.96it/s]"
          ]
        },
        {
          "output_type": "stream",
          "name": "stdout",
          "text": [
            "                   all         24         38      0.884      0.878      0.956       0.86\n"
          ]
        },
        {
          "output_type": "stream",
          "name": "stderr",
          "text": [
            "\n"
          ]
        },
        {
          "output_type": "stream",
          "name": "stdout",
          "text": [
            "\n",
            "      Epoch    GPU_mem   box_loss   cls_loss   dfl_loss  Instances       Size\n"
          ]
        },
        {
          "output_type": "stream",
          "name": "stderr",
          "text": [
            "     64/100      11.2G     0.3791     0.2504     0.9812         13        640: 100%|██████████| 16/16 [00:11<00:00,  1.35it/s]\n",
            "                 Class     Images  Instances      Box(P          R      mAP50  mAP50-95): 100%|██████████| 1/1 [00:00<00:00,  1.83it/s]"
          ]
        },
        {
          "output_type": "stream",
          "name": "stdout",
          "text": [
            "                   all         24         38      0.923       0.81      0.908      0.826\n"
          ]
        },
        {
          "output_type": "stream",
          "name": "stderr",
          "text": [
            "\n"
          ]
        },
        {
          "output_type": "stream",
          "name": "stdout",
          "text": [
            "\n",
            "      Epoch    GPU_mem   box_loss   cls_loss   dfl_loss  Instances       Size\n"
          ]
        },
        {
          "output_type": "stream",
          "name": "stderr",
          "text": [
            "     65/100      11.2G     0.3913     0.2489      0.968         13        640: 100%|██████████| 16/16 [00:11<00:00,  1.36it/s]\n",
            "                 Class     Images  Instances      Box(P          R      mAP50  mAP50-95): 100%|██████████| 1/1 [00:00<00:00,  2.18it/s]"
          ]
        },
        {
          "output_type": "stream",
          "name": "stdout",
          "text": [
            "                   all         24         38      0.903      0.832       0.94      0.848\n"
          ]
        },
        {
          "output_type": "stream",
          "name": "stderr",
          "text": [
            "\n"
          ]
        },
        {
          "output_type": "stream",
          "name": "stdout",
          "text": [
            "\n",
            "      Epoch    GPU_mem   box_loss   cls_loss   dfl_loss  Instances       Size\n"
          ]
        },
        {
          "output_type": "stream",
          "name": "stderr",
          "text": [
            "     66/100      11.1G     0.3829     0.2475     0.9536         26        640: 100%|██████████| 16/16 [00:11<00:00,  1.35it/s]\n",
            "                 Class     Images  Instances      Box(P          R      mAP50  mAP50-95): 100%|██████████| 1/1 [00:00<00:00,  2.12it/s]"
          ]
        },
        {
          "output_type": "stream",
          "name": "stdout",
          "text": [
            "                   all         24         38      0.939      0.823      0.945      0.862\n"
          ]
        },
        {
          "output_type": "stream",
          "name": "stderr",
          "text": [
            "\n"
          ]
        },
        {
          "output_type": "stream",
          "name": "stdout",
          "text": [
            "\n",
            "      Epoch    GPU_mem   box_loss   cls_loss   dfl_loss  Instances       Size\n"
          ]
        },
        {
          "output_type": "stream",
          "name": "stderr",
          "text": [
            "     67/100      11.1G     0.3588     0.2155     0.9484         24        640: 100%|██████████| 16/16 [00:11<00:00,  1.35it/s]\n",
            "                 Class     Images  Instances      Box(P          R      mAP50  mAP50-95): 100%|██████████| 1/1 [00:00<00:00,  2.15it/s]"
          ]
        },
        {
          "output_type": "stream",
          "name": "stdout",
          "text": [
            "                   all         24         38      0.933      0.803      0.911      0.834\n"
          ]
        },
        {
          "output_type": "stream",
          "name": "stderr",
          "text": [
            "\n"
          ]
        },
        {
          "output_type": "stream",
          "name": "stdout",
          "text": [
            "\n",
            "      Epoch    GPU_mem   box_loss   cls_loss   dfl_loss  Instances       Size\n"
          ]
        },
        {
          "output_type": "stream",
          "name": "stderr",
          "text": [
            "     68/100      11.2G     0.3567      0.223     0.9684         24        640: 100%|██████████| 16/16 [00:11<00:00,  1.35it/s]\n",
            "                 Class     Images  Instances      Box(P          R      mAP50  mAP50-95): 100%|██████████| 1/1 [00:00<00:00,  2.14it/s]"
          ]
        },
        {
          "output_type": "stream",
          "name": "stdout",
          "text": [
            "                   all         24         38      0.948      0.827      0.926      0.855\n"
          ]
        },
        {
          "output_type": "stream",
          "name": "stderr",
          "text": [
            "\n"
          ]
        },
        {
          "output_type": "stream",
          "name": "stdout",
          "text": [
            "\n",
            "      Epoch    GPU_mem   box_loss   cls_loss   dfl_loss  Instances       Size\n"
          ]
        },
        {
          "output_type": "stream",
          "name": "stderr",
          "text": [
            "     69/100      11.1G     0.3614     0.2213     0.9417         16        640: 100%|██████████| 16/16 [00:11<00:00,  1.36it/s]\n",
            "                 Class     Images  Instances      Box(P          R      mAP50  mAP50-95): 100%|██████████| 1/1 [00:00<00:00,  2.16it/s]"
          ]
        },
        {
          "output_type": "stream",
          "name": "stdout",
          "text": [
            "                   all         24         38      0.934      0.926      0.976      0.905\n"
          ]
        },
        {
          "output_type": "stream",
          "name": "stderr",
          "text": [
            "\n"
          ]
        },
        {
          "output_type": "stream",
          "name": "stdout",
          "text": [
            "\n",
            "      Epoch    GPU_mem   box_loss   cls_loss   dfl_loss  Instances       Size\n"
          ]
        },
        {
          "output_type": "stream",
          "name": "stderr",
          "text": [
            "     70/100      11.2G     0.3697     0.2129     0.9586         15        640: 100%|██████████| 16/16 [00:11<00:00,  1.36it/s]\n",
            "                 Class     Images  Instances      Box(P          R      mAP50  mAP50-95): 100%|██████████| 1/1 [00:00<00:00,  2.19it/s]"
          ]
        },
        {
          "output_type": "stream",
          "name": "stdout",
          "text": [
            "                   all         24         38      0.931      0.953      0.977        0.9\n"
          ]
        },
        {
          "output_type": "stream",
          "name": "stderr",
          "text": [
            "\n"
          ]
        },
        {
          "output_type": "stream",
          "name": "stdout",
          "text": [
            "\n",
            "      Epoch    GPU_mem   box_loss   cls_loss   dfl_loss  Instances       Size\n"
          ]
        },
        {
          "output_type": "stream",
          "name": "stderr",
          "text": [
            "     71/100      11.1G     0.3511     0.2163     0.9436         12        640: 100%|██████████| 16/16 [00:11<00:00,  1.35it/s]\n",
            "                 Class     Images  Instances      Box(P          R      mAP50  mAP50-95): 100%|██████████| 1/1 [00:00<00:00,  2.18it/s]"
          ]
        },
        {
          "output_type": "stream",
          "name": "stdout",
          "text": [
            "                   all         24         38      0.928      0.934      0.973      0.897\n"
          ]
        },
        {
          "output_type": "stream",
          "name": "stderr",
          "text": [
            "\n"
          ]
        },
        {
          "output_type": "stream",
          "name": "stdout",
          "text": [
            "\n",
            "      Epoch    GPU_mem   box_loss   cls_loss   dfl_loss  Instances       Size\n"
          ]
        },
        {
          "output_type": "stream",
          "name": "stderr",
          "text": [
            "     72/100      11.1G     0.3628     0.2188     0.9582         15        640: 100%|██████████| 16/16 [00:11<00:00,  1.36it/s]\n",
            "                 Class     Images  Instances      Box(P          R      mAP50  mAP50-95): 100%|██████████| 1/1 [00:00<00:00,  2.16it/s]"
          ]
        },
        {
          "output_type": "stream",
          "name": "stdout",
          "text": [
            "                   all         24         38      0.943      0.836      0.938      0.863\n"
          ]
        },
        {
          "output_type": "stream",
          "name": "stderr",
          "text": [
            "\n"
          ]
        },
        {
          "output_type": "stream",
          "name": "stdout",
          "text": [
            "\n",
            "      Epoch    GPU_mem   box_loss   cls_loss   dfl_loss  Instances       Size\n"
          ]
        },
        {
          "output_type": "stream",
          "name": "stderr",
          "text": [
            "     73/100      11.1G     0.3501     0.2074     0.9392         10        640: 100%|██████████| 16/16 [00:11<00:00,  1.35it/s]\n",
            "                 Class     Images  Instances      Box(P          R      mAP50  mAP50-95): 100%|██████████| 1/1 [00:00<00:00,  2.18it/s]"
          ]
        },
        {
          "output_type": "stream",
          "name": "stdout",
          "text": [
            "                   all         24         38      0.926      0.862      0.914      0.838\n"
          ]
        },
        {
          "output_type": "stream",
          "name": "stderr",
          "text": [
            "\n"
          ]
        },
        {
          "output_type": "stream",
          "name": "stdout",
          "text": [
            "\n",
            "      Epoch    GPU_mem   box_loss   cls_loss   dfl_loss  Instances       Size\n"
          ]
        },
        {
          "output_type": "stream",
          "name": "stderr",
          "text": [
            "     74/100      11.1G     0.3474     0.2133      0.955         13        640: 100%|██████████| 16/16 [00:11<00:00,  1.35it/s]\n",
            "                 Class     Images  Instances      Box(P          R      mAP50  mAP50-95): 100%|██████████| 1/1 [00:00<00:00,  1.96it/s]"
          ]
        },
        {
          "output_type": "stream",
          "name": "stdout",
          "text": [
            "                   all         24         38      0.924      0.863      0.897      0.808\n"
          ]
        },
        {
          "output_type": "stream",
          "name": "stderr",
          "text": [
            "\n"
          ]
        },
        {
          "output_type": "stream",
          "name": "stdout",
          "text": [
            "\n",
            "      Epoch    GPU_mem   box_loss   cls_loss   dfl_loss  Instances       Size\n"
          ]
        },
        {
          "output_type": "stream",
          "name": "stderr",
          "text": [
            "     75/100      11.2G     0.3435     0.2325     0.9321         15        640: 100%|██████████| 16/16 [00:11<00:00,  1.34it/s]\n",
            "                 Class     Images  Instances      Box(P          R      mAP50  mAP50-95): 100%|██████████| 1/1 [00:00<00:00,  2.13it/s]"
          ]
        },
        {
          "output_type": "stream",
          "name": "stdout",
          "text": [
            "                   all         24         38      0.917      0.865      0.934      0.856\n"
          ]
        },
        {
          "output_type": "stream",
          "name": "stderr",
          "text": [
            "\n"
          ]
        },
        {
          "output_type": "stream",
          "name": "stdout",
          "text": [
            "\n",
            "      Epoch    GPU_mem   box_loss   cls_loss   dfl_loss  Instances       Size\n"
          ]
        },
        {
          "output_type": "stream",
          "name": "stderr",
          "text": [
            "     76/100      11.1G     0.3262      0.212     0.9363         26        640: 100%|██████████| 16/16 [00:11<00:00,  1.36it/s]\n",
            "                 Class     Images  Instances      Box(P          R      mAP50  mAP50-95): 100%|██████████| 1/1 [00:00<00:00,  2.16it/s]"
          ]
        },
        {
          "output_type": "stream",
          "name": "stdout",
          "text": [
            "                   all         24         38      0.917      0.868      0.907      0.828\n"
          ]
        },
        {
          "output_type": "stream",
          "name": "stderr",
          "text": [
            "\n"
          ]
        },
        {
          "output_type": "stream",
          "name": "stdout",
          "text": [
            "\n",
            "      Epoch    GPU_mem   box_loss   cls_loss   dfl_loss  Instances       Size\n"
          ]
        },
        {
          "output_type": "stream",
          "name": "stderr",
          "text": [
            "     77/100      11.1G     0.3342     0.1977     0.9211         13        640: 100%|██████████| 16/16 [00:11<00:00,  1.36it/s]\n",
            "                 Class     Images  Instances      Box(P          R      mAP50  mAP50-95): 100%|██████████| 1/1 [00:00<00:00,  2.09it/s]"
          ]
        },
        {
          "output_type": "stream",
          "name": "stdout",
          "text": [
            "                   all         24         38      0.902      0.891      0.913      0.835\n"
          ]
        },
        {
          "output_type": "stream",
          "name": "stderr",
          "text": [
            "\n"
          ]
        },
        {
          "output_type": "stream",
          "name": "stdout",
          "text": [
            "\n",
            "      Epoch    GPU_mem   box_loss   cls_loss   dfl_loss  Instances       Size\n"
          ]
        },
        {
          "output_type": "stream",
          "name": "stderr",
          "text": [
            "     78/100      11.1G     0.3375     0.2055     0.9388         14        640: 100%|██████████| 16/16 [00:11<00:00,  1.35it/s]\n",
            "                 Class     Images  Instances      Box(P          R      mAP50  mAP50-95): 100%|██████████| 1/1 [00:00<00:00,  2.17it/s]"
          ]
        },
        {
          "output_type": "stream",
          "name": "stdout",
          "text": [
            "                   all         24         38      0.967      0.918       0.99      0.916\n"
          ]
        },
        {
          "output_type": "stream",
          "name": "stderr",
          "text": [
            "\n"
          ]
        },
        {
          "output_type": "stream",
          "name": "stdout",
          "text": [
            "\n",
            "      Epoch    GPU_mem   box_loss   cls_loss   dfl_loss  Instances       Size\n"
          ]
        },
        {
          "output_type": "stream",
          "name": "stderr",
          "text": [
            "     79/100      11.2G     0.3355     0.2014     0.9519         28        640: 100%|██████████| 16/16 [00:11<00:00,  1.35it/s]\n",
            "                 Class     Images  Instances      Box(P          R      mAP50  mAP50-95): 100%|██████████| 1/1 [00:00<00:00,  2.12it/s]"
          ]
        },
        {
          "output_type": "stream",
          "name": "stdout",
          "text": [
            "                   all         24         38      0.967          1      0.995      0.914\n"
          ]
        },
        {
          "output_type": "stream",
          "name": "stderr",
          "text": [
            "\n"
          ]
        },
        {
          "output_type": "stream",
          "name": "stdout",
          "text": [
            "\n",
            "      Epoch    GPU_mem   box_loss   cls_loss   dfl_loss  Instances       Size\n"
          ]
        },
        {
          "output_type": "stream",
          "name": "stderr",
          "text": [
            "     80/100      11.1G      0.332     0.1998     0.9265         12        640: 100%|██████████| 16/16 [00:11<00:00,  1.36it/s]\n",
            "                 Class     Images  Instances      Box(P          R      mAP50  mAP50-95): 100%|██████████| 1/1 [00:00<00:00,  2.15it/s]"
          ]
        },
        {
          "output_type": "stream",
          "name": "stdout",
          "text": [
            "                   all         24         38      0.971      0.992      0.995      0.904\n"
          ]
        },
        {
          "output_type": "stream",
          "name": "stderr",
          "text": [
            "\n"
          ]
        },
        {
          "output_type": "stream",
          "name": "stdout",
          "text": [
            "\n",
            "      Epoch    GPU_mem   box_loss   cls_loss   dfl_loss  Instances       Size\n"
          ]
        },
        {
          "output_type": "stream",
          "name": "stderr",
          "text": [
            "     81/100      11.1G     0.3278     0.1951     0.9159         17        640: 100%|██████████| 16/16 [00:11<00:00,  1.36it/s]\n",
            "                 Class     Images  Instances      Box(P          R      mAP50  mAP50-95): 100%|██████████| 1/1 [00:00<00:00,  2.08it/s]"
          ]
        },
        {
          "output_type": "stream",
          "name": "stdout",
          "text": [
            "                   all         24         38      0.944      0.959      0.977      0.896\n"
          ]
        },
        {
          "output_type": "stream",
          "name": "stderr",
          "text": [
            "\n"
          ]
        },
        {
          "output_type": "stream",
          "name": "stdout",
          "text": [
            "\n",
            "      Epoch    GPU_mem   box_loss   cls_loss   dfl_loss  Instances       Size\n"
          ]
        },
        {
          "output_type": "stream",
          "name": "stderr",
          "text": [
            "     82/100      11.2G     0.3294     0.1973     0.9119         19        640: 100%|██████████| 16/16 [00:11<00:00,  1.36it/s]\n",
            "                 Class     Images  Instances      Box(P          R      mAP50  mAP50-95): 100%|██████████| 1/1 [00:00<00:00,  2.16it/s]"
          ]
        },
        {
          "output_type": "stream",
          "name": "stdout",
          "text": [
            "                   all         24         38      0.967      0.923      0.986      0.897\n"
          ]
        },
        {
          "output_type": "stream",
          "name": "stderr",
          "text": [
            "\n"
          ]
        },
        {
          "output_type": "stream",
          "name": "stdout",
          "text": [
            "\n",
            "      Epoch    GPU_mem   box_loss   cls_loss   dfl_loss  Instances       Size\n"
          ]
        },
        {
          "output_type": "stream",
          "name": "stderr",
          "text": [
            "     83/100      11.1G     0.3291     0.1995     0.9086         19        640: 100%|██████████| 16/16 [00:11<00:00,  1.36it/s]\n",
            "                 Class     Images  Instances      Box(P          R      mAP50  mAP50-95): 100%|██████████| 1/1 [00:00<00:00,  2.16it/s]"
          ]
        },
        {
          "output_type": "stream",
          "name": "stdout",
          "text": [
            "                   all         24         38      0.971      0.917      0.978      0.906\n"
          ]
        },
        {
          "output_type": "stream",
          "name": "stderr",
          "text": [
            "\n"
          ]
        },
        {
          "output_type": "stream",
          "name": "stdout",
          "text": [
            "\n",
            "      Epoch    GPU_mem   box_loss   cls_loss   dfl_loss  Instances       Size\n"
          ]
        },
        {
          "output_type": "stream",
          "name": "stderr",
          "text": [
            "     84/100      11.2G     0.3183     0.2025     0.9212         12        640: 100%|██████████| 16/16 [00:11<00:00,  1.35it/s]\n",
            "                 Class     Images  Instances      Box(P          R      mAP50  mAP50-95): 100%|██████████| 1/1 [00:00<00:00,  1.73it/s]"
          ]
        },
        {
          "output_type": "stream",
          "name": "stdout",
          "text": [
            "                   all         24         38      0.959      0.994      0.994      0.913\n"
          ]
        },
        {
          "output_type": "stream",
          "name": "stderr",
          "text": [
            "\n"
          ]
        },
        {
          "output_type": "stream",
          "name": "stdout",
          "text": [
            "\n",
            "      Epoch    GPU_mem   box_loss   cls_loss   dfl_loss  Instances       Size\n"
          ]
        },
        {
          "output_type": "stream",
          "name": "stderr",
          "text": [
            "     85/100      11.2G      0.305     0.1925     0.9338         16        640: 100%|██████████| 16/16 [00:11<00:00,  1.35it/s]\n",
            "                 Class     Images  Instances      Box(P          R      mAP50  mAP50-95): 100%|██████████| 1/1 [00:00<00:00,  1.87it/s]"
          ]
        },
        {
          "output_type": "stream",
          "name": "stdout",
          "text": [
            "                   all         24         38      0.962      0.993      0.994      0.912\n"
          ]
        },
        {
          "output_type": "stream",
          "name": "stderr",
          "text": [
            "\n"
          ]
        },
        {
          "output_type": "stream",
          "name": "stdout",
          "text": [
            "\n",
            "      Epoch    GPU_mem   box_loss   cls_loss   dfl_loss  Instances       Size\n"
          ]
        },
        {
          "output_type": "stream",
          "name": "stderr",
          "text": [
            "     86/100      11.2G     0.3156     0.1871     0.9234         14        640: 100%|██████████| 16/16 [00:11<00:00,  1.35it/s]\n",
            "                 Class     Images  Instances      Box(P          R      mAP50  mAP50-95): 100%|██████████| 1/1 [00:00<00:00,  2.14it/s]"
          ]
        },
        {
          "output_type": "stream",
          "name": "stdout",
          "text": [
            "                   all         24         38      0.957      0.993      0.994      0.919\n"
          ]
        },
        {
          "output_type": "stream",
          "name": "stderr",
          "text": [
            "\n"
          ]
        },
        {
          "output_type": "stream",
          "name": "stdout",
          "text": [
            "\n",
            "      Epoch    GPU_mem   box_loss   cls_loss   dfl_loss  Instances       Size\n"
          ]
        },
        {
          "output_type": "stream",
          "name": "stderr",
          "text": [
            "     87/100      11.1G     0.3113     0.1994     0.9317         14        640: 100%|██████████| 16/16 [00:11<00:00,  1.35it/s]\n",
            "                 Class     Images  Instances      Box(P          R      mAP50  mAP50-95): 100%|██████████| 1/1 [00:00<00:00,  2.18it/s]"
          ]
        },
        {
          "output_type": "stream",
          "name": "stdout",
          "text": [
            "                   all         24         38       0.96      0.995      0.994      0.921\n"
          ]
        },
        {
          "output_type": "stream",
          "name": "stderr",
          "text": [
            "\n"
          ]
        },
        {
          "output_type": "stream",
          "name": "stdout",
          "text": [
            "\n",
            "      Epoch    GPU_mem   box_loss   cls_loss   dfl_loss  Instances       Size\n"
          ]
        },
        {
          "output_type": "stream",
          "name": "stderr",
          "text": [
            "     88/100      11.1G     0.3221     0.1853     0.9168         20        640: 100%|██████████| 16/16 [00:11<00:00,  1.36it/s]\n",
            "                 Class     Images  Instances      Box(P          R      mAP50  mAP50-95): 100%|██████████| 1/1 [00:00<00:00,  2.17it/s]"
          ]
        },
        {
          "output_type": "stream",
          "name": "stdout",
          "text": [
            "                   all         24         38      0.958       0.98      0.994      0.913\n"
          ]
        },
        {
          "output_type": "stream",
          "name": "stderr",
          "text": [
            "\n"
          ]
        },
        {
          "output_type": "stream",
          "name": "stdout",
          "text": [
            "\n",
            "      Epoch    GPU_mem   box_loss   cls_loss   dfl_loss  Instances       Size\n"
          ]
        },
        {
          "output_type": "stream",
          "name": "stderr",
          "text": [
            "     89/100      11.1G     0.3068     0.1883     0.9166         18        640: 100%|██████████| 16/16 [00:11<00:00,  1.35it/s]\n",
            "                 Class     Images  Instances      Box(P          R      mAP50  mAP50-95): 100%|██████████| 1/1 [00:00<00:00,  2.16it/s]"
          ]
        },
        {
          "output_type": "stream",
          "name": "stdout",
          "text": [
            "                   all         24         38       0.89      0.994      0.983      0.902\n"
          ]
        },
        {
          "output_type": "stream",
          "name": "stderr",
          "text": [
            "\n"
          ]
        },
        {
          "output_type": "stream",
          "name": "stdout",
          "text": [
            "\n",
            "      Epoch    GPU_mem   box_loss   cls_loss   dfl_loss  Instances       Size\n"
          ]
        },
        {
          "output_type": "stream",
          "name": "stderr",
          "text": [
            "     90/100      11.1G     0.3034     0.1836     0.9081         13        640: 100%|██████████| 16/16 [00:11<00:00,  1.35it/s]\n",
            "                 Class     Images  Instances      Box(P          R      mAP50  mAP50-95): 100%|██████████| 1/1 [00:00<00:00,  2.17it/s]"
          ]
        },
        {
          "output_type": "stream",
          "name": "stdout",
          "text": [
            "                   all         24         38      0.885          1      0.983      0.897\n"
          ]
        },
        {
          "output_type": "stream",
          "name": "stderr",
          "text": [
            "\n"
          ]
        },
        {
          "output_type": "stream",
          "name": "stdout",
          "text": [
            "Closing dataloader mosaic\n",
            "\u001b[34m\u001b[1malbumentations: \u001b[0mBlur(p=0.01, blur_limit=(3, 7)), MedianBlur(p=0.01, blur_limit=(3, 7)), ToGray(p=0.01), CLAHE(p=0.01, clip_limit=(1, 4.0), tile_grid_size=(8, 8))\n",
            "\n",
            "      Epoch    GPU_mem   box_loss   cls_loss   dfl_loss  Instances       Size\n"
          ]
        },
        {
          "output_type": "stream",
          "name": "stderr",
          "text": [
            "     91/100      11.2G     0.3106     0.1908      0.911         13        640: 100%|██████████| 16/16 [00:13<00:00,  1.17it/s]\n",
            "                 Class     Images  Instances      Box(P          R      mAP50  mAP50-95): 100%|██████████| 1/1 [00:00<00:00,  2.02it/s]"
          ]
        },
        {
          "output_type": "stream",
          "name": "stdout",
          "text": [
            "                   all         24         38      0.879      0.995      0.982      0.898\n"
          ]
        },
        {
          "output_type": "stream",
          "name": "stderr",
          "text": [
            "\n"
          ]
        },
        {
          "output_type": "stream",
          "name": "stdout",
          "text": [
            "\n",
            "      Epoch    GPU_mem   box_loss   cls_loss   dfl_loss  Instances       Size\n"
          ]
        },
        {
          "output_type": "stream",
          "name": "stderr",
          "text": [
            "     92/100      11.2G      0.297     0.1756     0.9059         18        640: 100%|██████████| 16/16 [00:11<00:00,  1.35it/s]\n",
            "                 Class     Images  Instances      Box(P          R      mAP50  mAP50-95): 100%|██████████| 1/1 [00:00<00:00,  1.76it/s]"
          ]
        },
        {
          "output_type": "stream",
          "name": "stdout",
          "text": [
            "                   all         24         38      0.959      0.967      0.994      0.918\n"
          ]
        },
        {
          "output_type": "stream",
          "name": "stderr",
          "text": [
            "\n"
          ]
        },
        {
          "output_type": "stream",
          "name": "stdout",
          "text": [
            "\n",
            "      Epoch    GPU_mem   box_loss   cls_loss   dfl_loss  Instances       Size\n"
          ]
        },
        {
          "output_type": "stream",
          "name": "stderr",
          "text": [
            "     93/100      11.1G     0.2768     0.1796     0.9233         12        640: 100%|██████████| 16/16 [00:11<00:00,  1.35it/s]\n",
            "                 Class     Images  Instances      Box(P          R      mAP50  mAP50-95): 100%|██████████| 1/1 [00:00<00:00,  2.12it/s]"
          ]
        },
        {
          "output_type": "stream",
          "name": "stdout",
          "text": [
            "                   all         24         38      0.962       0.97      0.994      0.917\n"
          ]
        },
        {
          "output_type": "stream",
          "name": "stderr",
          "text": [
            "\n"
          ]
        },
        {
          "output_type": "stream",
          "name": "stdout",
          "text": [
            "\n",
            "      Epoch    GPU_mem   box_loss   cls_loss   dfl_loss  Instances       Size\n"
          ]
        },
        {
          "output_type": "stream",
          "name": "stderr",
          "text": [
            "     94/100      11.2G      0.278     0.1834     0.8877         15        640: 100%|██████████| 16/16 [00:11<00:00,  1.35it/s]\n",
            "                 Class     Images  Instances      Box(P          R      mAP50  mAP50-95): 100%|██████████| 1/1 [00:00<00:00,  2.16it/s]"
          ]
        },
        {
          "output_type": "stream",
          "name": "stdout",
          "text": [
            "                   all         24         38      0.886      0.991      0.982      0.899\n"
          ]
        },
        {
          "output_type": "stream",
          "name": "stderr",
          "text": [
            "\n"
          ]
        },
        {
          "output_type": "stream",
          "name": "stdout",
          "text": [
            "\n",
            "      Epoch    GPU_mem   box_loss   cls_loss   dfl_loss  Instances       Size\n"
          ]
        },
        {
          "output_type": "stream",
          "name": "stderr",
          "text": [
            "     95/100      11.2G     0.2922      0.177      0.917         15        640: 100%|██████████| 16/16 [00:11<00:00,  1.36it/s]\n",
            "                 Class     Images  Instances      Box(P          R      mAP50  mAP50-95): 100%|██████████| 1/1 [00:00<00:00,  2.15it/s]"
          ]
        },
        {
          "output_type": "stream",
          "name": "stdout",
          "text": [
            "                   all         24         38      0.888       0.99      0.982      0.897\n"
          ]
        },
        {
          "output_type": "stream",
          "name": "stderr",
          "text": [
            "\n"
          ]
        },
        {
          "output_type": "stream",
          "name": "stdout",
          "text": [
            "\n",
            "      Epoch    GPU_mem   box_loss   cls_loss   dfl_loss  Instances       Size\n"
          ]
        },
        {
          "output_type": "stream",
          "name": "stderr",
          "text": [
            "     96/100      11.1G     0.2941     0.1751     0.9299         14        640: 100%|██████████| 16/16 [00:11<00:00,  1.35it/s]\n",
            "                 Class     Images  Instances      Box(P          R      mAP50  mAP50-95): 100%|██████████| 1/1 [00:00<00:00,  2.11it/s]"
          ]
        },
        {
          "output_type": "stream",
          "name": "stdout",
          "text": [
            "                   all         24         38      0.976      0.883      0.977      0.888\n"
          ]
        },
        {
          "output_type": "stream",
          "name": "stderr",
          "text": [
            "\n"
          ]
        },
        {
          "output_type": "stream",
          "name": "stdout",
          "text": [
            "\n",
            "      Epoch    GPU_mem   box_loss   cls_loss   dfl_loss  Instances       Size\n"
          ]
        },
        {
          "output_type": "stream",
          "name": "stderr",
          "text": [
            "     97/100      11.1G     0.2833     0.1795     0.9087         14        640: 100%|██████████| 16/16 [00:11<00:00,  1.36it/s]\n",
            "                 Class     Images  Instances      Box(P          R      mAP50  mAP50-95): 100%|██████████| 1/1 [00:00<00:00,  2.17it/s]"
          ]
        },
        {
          "output_type": "stream",
          "name": "stdout",
          "text": [
            "                   all         24         38      0.939      0.943       0.99      0.902\n"
          ]
        },
        {
          "output_type": "stream",
          "name": "stderr",
          "text": [
            "\n"
          ]
        },
        {
          "output_type": "stream",
          "name": "stdout",
          "text": [
            "\n",
            "      Epoch    GPU_mem   box_loss   cls_loss   dfl_loss  Instances       Size\n"
          ]
        },
        {
          "output_type": "stream",
          "name": "stderr",
          "text": [
            "     98/100      11.2G     0.2667     0.1699      0.895         12        640: 100%|██████████| 16/16 [00:11<00:00,  1.36it/s]\n",
            "                 Class     Images  Instances      Box(P          R      mAP50  mAP50-95): 100%|██████████| 1/1 [00:00<00:00,  2.19it/s]"
          ]
        },
        {
          "output_type": "stream",
          "name": "stdout",
          "text": [
            "                   all         24         38      0.949      0.925       0.99       0.91\n"
          ]
        },
        {
          "output_type": "stream",
          "name": "stderr",
          "text": [
            "\n"
          ]
        },
        {
          "output_type": "stream",
          "name": "stdout",
          "text": [
            "\n",
            "      Epoch    GPU_mem   box_loss   cls_loss   dfl_loss  Instances       Size\n"
          ]
        },
        {
          "output_type": "stream",
          "name": "stderr",
          "text": [
            "     99/100      11.2G     0.2768     0.1735     0.8926         15        640: 100%|██████████| 16/16 [00:11<00:00,  1.35it/s]\n",
            "                 Class     Images  Instances      Box(P          R      mAP50  mAP50-95): 100%|██████████| 1/1 [00:00<00:00,  2.20it/s]"
          ]
        },
        {
          "output_type": "stream",
          "name": "stdout",
          "text": [
            "                   all         24         38      0.975      0.879      0.977      0.899\n"
          ]
        },
        {
          "output_type": "stream",
          "name": "stderr",
          "text": [
            "\n"
          ]
        },
        {
          "output_type": "stream",
          "name": "stdout",
          "text": [
            "\n",
            "      Epoch    GPU_mem   box_loss   cls_loss   dfl_loss  Instances       Size\n"
          ]
        },
        {
          "output_type": "stream",
          "name": "stderr",
          "text": [
            "    100/100      11.2G     0.2721      0.176     0.9061         20        640: 100%|██████████| 16/16 [00:11<00:00,  1.36it/s]\n",
            "                 Class     Images  Instances      Box(P          R      mAP50  mAP50-95): 100%|██████████| 1/1 [00:00<00:00,  2.12it/s]"
          ]
        },
        {
          "output_type": "stream",
          "name": "stdout",
          "text": [
            "                   all         24         38      0.972      0.882      0.982      0.899\n"
          ]
        },
        {
          "output_type": "stream",
          "name": "stderr",
          "text": [
            "\n"
          ]
        },
        {
          "output_type": "stream",
          "name": "stdout",
          "text": [
            "\n",
            "100 epochs completed in 0.397 hours.\n",
            "Optimizer stripped from runs/detect/train22/weights/last.pt, 51.6MB\n",
            "Optimizer stripped from runs/detect/train22/weights/best.pt, 51.6MB\n",
            "\n",
            "Validating runs/detect/train22/weights/best.pt...\n",
            "Ultralytics YOLOv8.1.44 🚀 Python-3.10.12 torch-2.2.1+cu121 CUDA:0 (Tesla T4, 15102MiB)\n",
            "YOLOv9c summary (fused): 384 layers, 25322332 parameters, 0 gradients, 102.3 GFLOPs\n"
          ]
        },
        {
          "output_type": "stream",
          "name": "stderr",
          "text": [
            "                 Class     Images  Instances      Box(P          R      mAP50  mAP50-95): 100%|██████████| 1/1 [00:00<00:00,  1.86it/s]\n"
          ]
        },
        {
          "output_type": "stream",
          "name": "stdout",
          "text": [
            "                   all         24         38       0.96      0.995      0.994      0.921\n",
            "                1 coin         24          4          1      0.981      0.995      0.995\n",
            "               10 coin         24          7      0.993          1      0.995      0.829\n",
            "                2 coin         24         10      0.935          1      0.995      0.931\n",
            "                5 coin         24         17      0.912          1      0.992      0.927\n",
            "Speed: 0.4ms preprocess, 17.5ms inference, 0.0ms loss, 1.2ms postprocess per image\n",
            "Results saved to \u001b[1mruns/detect/train22\u001b[0m\n"
          ]
        }
      ]
    },
    {
      "cell_type": "markdown",
      "source": [],
      "metadata": {
        "id": "ZNa_RXw7HK9U"
      }
    },
    {
      "cell_type": "code",
      "source": [
        "import zipfile\n",
        "\n",
        "def zip_folder(folder_path, zip_path):\n",
        "    with zipfile.ZipFile(zip_path, 'w', zipfile.ZIP_DEFLATED) as zipf:\n",
        "        for root, dirs, files in os.walk(folder_path):\n",
        "            for file in files:\n",
        "                zipf.write(os.path.join(root, file), os.path.relpath(os.path.join(root, file), folder_path))\n",
        "\n",
        "folder_to_zip = '/content/yolov9/runs'  # ตำแหน่งไฟล์\n",
        "output_zip = '/content/yolov9/runs.zip'  # ตำแหน่งไฟล์\n",
        "\n",
        "zip_folder(folder_to_zip, output_zip)"
      ],
      "metadata": {
        "id": "wSIAyn09BkOM"
      },
      "execution_count": null,
      "outputs": []
    }
  ]
}